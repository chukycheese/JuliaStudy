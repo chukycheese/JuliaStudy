{
 "cells": [
  {
   "cell_type": "code",
   "execution_count": 1,
   "metadata": {
    "collapsed": false
   },
   "outputs": [
    {
     "name": "stderr",
     "output_type": "stream",
     "text": [
      "INFO: Updating METADATA...\n",
      "INFO: Updating cache of DataFrames...\n",
      "INFO: Updating cache of DataFrames...\n",
      "WARNING: Package Chapter2: skipping update (dirty)...\n",
      "INFO: Computing changes...\n",
      "INFO: No packages to install, update or remove\n"
     ]
    }
   ],
   "source": [
    "Pkg.update()"
   ]
  },
  {
   "cell_type": "markdown",
   "metadata": {},
   "source": [
    "## Data Frames"
   ]
  },
  {
   "cell_type": "markdown",
   "metadata": {},
   "source": [
    "### Creating and Populating a data frame"
   ]
  },
  {
   "cell_type": "code",
   "execution_count": 3,
   "metadata": {
    "collapsed": false
   },
   "outputs": [
    {
     "ename": "LoadError",
     "evalue": "LoadError: MethodError: no method matching DataArrays.DataArray{T,N}()\nClosest candidates are:\n  DataArrays.DataArray{T,N}{T,N}(!Matched::Array{T,N}) at C:\\Users\\ChuKY\\.julia\\v0.5\\DataArrays\\src\\dataarray.jl:75\n  DataArrays.DataArray{T,N}{T,N}(!Matched::Array{T,N}, !Matched::BitArray{N}) at C:\\Users\\ChuKY\\.julia\\v0.5\\DataArrays\\src\\dataarray.jl:75\n  DataArrays.DataArray{T,N}(!Matched::Array{T,N}, !Matched::Array{Bool,N}) at C:\\Users\\ChuKY\\.julia\\v0.5\\DataArrays\\src\\dataarray.jl:94\n  ...\nwhile loading In[3], in expression starting on line 3",
     "output_type": "error",
     "traceback": [
      "LoadError: MethodError: no method matching DataArrays.DataArray{T,N}()\nClosest candidates are:\n  DataArrays.DataArray{T,N}{T,N}(!Matched::Array{T,N}) at C:\\Users\\ChuKY\\.julia\\v0.5\\DataArrays\\src\\dataarray.jl:75\n  DataArrays.DataArray{T,N}{T,N}(!Matched::Array{T,N}, !Matched::BitArray{N}) at C:\\Users\\ChuKY\\.julia\\v0.5\\DataArrays\\src\\dataarray.jl:75\n  DataArrays.DataArray{T,N}(!Matched::Array{T,N}, !Matched::Array{Bool,N}) at C:\\Users\\ChuKY\\.julia\\v0.5\\DataArrays\\src\\dataarray.jl:94\n  ...\nwhile loading In[3], in expression starting on line 3",
      ""
     ]
    }
   ],
   "source": [
    "using DataFrames, DataArrays\n",
    "df = DataFrame()    # an empty data frame\n",
    "da = DataArray()    # an empty data array; consisting of a one-dimensional array with names"
   ]
  },
  {
   "cell_type": "code",
   "execution_count": 9,
   "metadata": {
    "collapsed": false
   },
   "outputs": [
    {
     "data": {
      "text/plain": [
       "10-element DataArrays.DataArray{Int64,1}:\n",
       "  1\n",
       "  2\n",
       "  3\n",
       "  4\n",
       "  5\n",
       "  6\n",
       "  7\n",
       "  8\n",
       "  9\n",
       " 10"
      ]
     },
     "execution_count": 9,
     "metadata": {},
     "output_type": "execute_result"
    }
   ],
   "source": [
    "da = DataArray([1, 2, 3, 4, 5, 6, 7, 8, 9, 10])\n",
    "# if you have a couple of data arrays; da1, da2\n",
    "da1 = DataArray([1, 2, 3, 4, 5, 6, 7, 8, 9, 10])\n",
    "da2 = DataArray([1, 2, 3, 4, 5, 6, 7, 8, 9, 10])\n",
    "\n",
    "df[:var1] = da1    # :var1 - the column name for da1\n",
    "df[:var2] = da2    # :var2 - the column name for da2"
   ]
  },
  {
   "cell_type": "markdown",
   "metadata": {},
   "source": [
    "### Data Frames Basics"
   ]
  },
  {
   "cell_type": "code",
   "execution_count": 10,
   "metadata": {
    "collapsed": false
   },
   "outputs": [
    {
     "data": {
      "text/plain": [
       "2-element Array{Symbol,1}:\n",
       " :var1\n",
       " :var2"
      ]
     },
     "execution_count": 10,
     "metadata": {},
     "output_type": "execute_result"
    }
   ],
   "source": [
    "# Variable names in a data frame\n",
    "names(df)    # shows the names of variables, similar to colnames"
   ]
  },
  {
   "cell_type": "code",
   "execution_count": 11,
   "metadata": {
    "collapsed": false
   },
   "outputs": [
    {
     "data": {
      "text/html": [
       "<table class=\"data-frame\"><thead><tr><th></th><th>length</th><th>height</th></tr></thead><tbody><tr><th>1</th><td>1</td><td>1</td></tr><tr><th>2</th><td>2</td><td>2</td></tr><tr><th>3</th><td>3</td><td>3</td></tr><tr><th>4</th><td>4</td><td>4</td></tr><tr><th>5</th><td>5</td><td>5</td></tr><tr><th>6</th><td>6</td><td>6</td></tr><tr><th>7</th><td>7</td><td>7</td></tr><tr><th>8</th><td>8</td><td>8</td></tr><tr><th>9</th><td>9</td><td>9</td></tr><tr><th>10</th><td>10</td><td>10</td></tr></tbody></table>"
      ],
      "text/plain": [
       "10×2 DataFrames.DataFrame\n",
       "│ Row │ length │ height │\n",
       "├─────┼────────┼────────┤\n",
       "│ 1   │ 1      │ 1      │\n",
       "│ 2   │ 2      │ 2      │\n",
       "│ 3   │ 3      │ 3      │\n",
       "│ 4   │ 4      │ 4      │\n",
       "│ 5   │ 5      │ 5      │\n",
       "│ 6   │ 6      │ 6      │\n",
       "│ 7   │ 7      │ 7      │\n",
       "│ 8   │ 8      │ 8      │\n",
       "│ 9   │ 9      │ 9      │\n",
       "│ 10  │ 10     │ 10     │"
      ]
     },
     "execution_count": 11,
     "metadata": {},
     "output_type": "execute_result"
    }
   ],
   "source": [
    "# renaming the names for variables\n",
    "rename!(df, [:var1, :var2], [:length, :width])\n",
    "\n",
    "# here's another way of doing it\n",
    "rename!(df, :width, :height)    # change the name :width to :height"
   ]
  },
  {
   "cell_type": "markdown",
   "metadata": {},
   "source": [
    "### Accessing Particular Variables in a Data Frame"
   ]
  },
  {
   "cell_type": "code",
   "execution_count": 12,
   "metadata": {
    "collapsed": false
   },
   "outputs": [
    {
     "data": {
      "text/plain": [
       "10-element DataArrays.DataArray{Int64,1}:\n",
       "  1\n",
       "  2\n",
       "  3\n",
       "  4\n",
       "  5\n",
       "  6\n",
       "  7\n",
       "  8\n",
       "  9\n",
       " 10"
      ]
     },
     "execution_count": 12,
     "metadata": {},
     "output_type": "execute_result"
    }
   ],
   "source": [
    "# To access a particular variable with names\n",
    "df[:length]"
   ]
  },
  {
   "cell_type": "code",
   "execution_count": 14,
   "metadata": {
    "collapsed": false
   },
   "outputs": [
    {
     "data": {
      "text/plain": [
       "10-element DataArrays.DataArray{Int64,1}:\n",
       "  1\n",
       "  2\n",
       "  3\n",
       "  4\n",
       "  5\n",
       "  6\n",
       "  7\n",
       "  8\n",
       "  9\n",
       " 10"
      ]
     },
     "execution_count": 14,
     "metadata": {},
     "output_type": "execute_result"
    }
   ],
   "source": [
    "# If the name of the variable is itself a variable, you need to convert it first using the symbol() function:\n",
    "var_name = \"height\"\n",
    "df[Symbol(var_name)]    # symbol() function is depricated"
   ]
  },
  {
   "cell_type": "code",
   "execution_count": 18,
   "metadata": {
    "collapsed": false
   },
   "outputs": [
    {
     "data": {
      "text/plain": [
       "true"
      ]
     },
     "execution_count": 18,
     "metadata": {},
     "output_type": "execute_result"
    }
   ],
   "source": [
    "Symbol(var_name) == :height"
   ]
  },
  {
   "cell_type": "code",
   "execution_count": 20,
   "metadata": {
    "collapsed": false
   },
   "outputs": [
    {
     "data": {
      "text/plain": [
       "([1,2,3,4,5,6,7,8,9,10],[1,2,3,4,5,6,7,8,9,10])"
      ]
     },
     "execution_count": 20,
     "metadata": {},
     "output_type": "execute_result"
    }
   ],
   "source": [
    "df[1], df[2]    # indexing columns from data frames"
   ]
  },
  {
   "cell_type": "markdown",
   "metadata": {},
   "source": [
    "### Exploring a data frame"
   ]
  },
  {
   "cell_type": "code",
   "execution_count": 21,
   "metadata": {
    "collapsed": false
   },
   "outputs": [
    {
     "name": "stdout",
     "output_type": "stream",
     "text": [
      "10×2 DataFrames.DataFrame\n",
      "│ Col # │ Name   │ Eltype │ Missing │\n",
      "├───────┼────────┼────────┼─────────┤\n",
      "│ 1     │ length │ Int64  │ 0       │\n",
      "│ 2     │ height │ Int64  │ 0       │"
     ]
    }
   ],
   "source": [
    "showcols(df)"
   ]
  },
  {
   "cell_type": "code",
   "execution_count": 22,
   "metadata": {
    "collapsed": false
   },
   "outputs": [
    {
     "data": {
      "text/html": [
       "<table class=\"data-frame\"><thead><tr><th></th><th>length</th><th>height</th></tr></thead><tbody><tr><th>1</th><td>1</td><td>1</td></tr><tr><th>2</th><td>2</td><td>2</td></tr><tr><th>3</th><td>3</td><td>3</td></tr><tr><th>4</th><td>4</td><td>4</td></tr><tr><th>5</th><td>5</td><td>5</td></tr><tr><th>6</th><td>6</td><td>6</td></tr></tbody></table>"
      ],
      "text/plain": [
       "6×2 DataFrames.DataFrame\n",
       "│ Row │ length │ height │\n",
       "├─────┼────────┼────────┤\n",
       "│ 1   │ 1      │ 1      │\n",
       "│ 2   │ 2      │ 2      │\n",
       "│ 3   │ 3      │ 3      │\n",
       "│ 4   │ 4      │ 4      │\n",
       "│ 5   │ 5      │ 5      │\n",
       "│ 6   │ 6      │ 6      │"
      ]
     },
     "execution_count": 22,
     "metadata": {},
     "output_type": "execute_result"
    }
   ],
   "source": [
    "head(df)"
   ]
  },
  {
   "cell_type": "code",
   "execution_count": 23,
   "metadata": {
    "collapsed": false
   },
   "outputs": [
    {
     "data": {
      "text/html": [
       "<table class=\"data-frame\"><thead><tr><th></th><th>length</th><th>height</th></tr></thead><tbody><tr><th>1</th><td>5</td><td>5</td></tr><tr><th>2</th><td>6</td><td>6</td></tr><tr><th>3</th><td>7</td><td>7</td></tr><tr><th>4</th><td>8</td><td>8</td></tr><tr><th>5</th><td>9</td><td>9</td></tr><tr><th>6</th><td>10</td><td>10</td></tr></tbody></table>"
      ],
      "text/plain": [
       "6×2 DataFrames.DataFrame\n",
       "│ Row │ length │ height │\n",
       "├─────┼────────┼────────┤\n",
       "│ 1   │ 5      │ 5      │\n",
       "│ 2   │ 6      │ 6      │\n",
       "│ 3   │ 7      │ 7      │\n",
       "│ 4   │ 8      │ 8      │\n",
       "│ 5   │ 9      │ 9      │\n",
       "│ 6   │ 10     │ 10     │"
      ]
     },
     "execution_count": 23,
     "metadata": {},
     "output_type": "execute_result"
    }
   ],
   "source": [
    "tail(df)"
   ]
  },
  {
   "cell_type": "code",
   "execution_count": 24,
   "metadata": {
    "collapsed": false
   },
   "outputs": [
    {
     "name": "stdout",
     "output_type": "stream",
     "text": [
      "length\n",
      "Min      1.0\n",
      "1st Qu.  3.25\n",
      "Median   5.5\n",
      "Mean     5.5\n",
      "3rd Qu.  7.75\n",
      "Max      10.0\n",
      "NAs      0\n",
      "NA%      0.0%\n",
      "\n",
      "height\n",
      "Min      1.0\n",
      "1st Qu.  3.25\n",
      "Median   5.5\n",
      "Mean     5.5\n",
      "3rd Qu.  7.75\n",
      "Max      10.0\n",
      "NAs      0\n",
      "NA%      0.0%\n",
      "\n"
     ]
    }
   ],
   "source": [
    "describe(df)"
   ]
  },
  {
   "cell_type": "markdown",
   "metadata": {},
   "source": [
    "### Filtering Sections of a Data Frame"
   ]
  },
  {
   "cell_type": "code",
   "execution_count": 25,
   "metadata": {
    "collapsed": false
   },
   "outputs": [
    {
     "data": {
      "text/html": [
       "<table class=\"data-frame\"><thead><tr><th></th><th>length</th></tr></thead><tbody><tr><th>1</th><td>1</td></tr><tr><th>2</th><td>2</td></tr><tr><th>3</th><td>3</td></tr><tr><th>4</th><td>4</td></tr><tr><th>5</th><td>5</td></tr></tbody></table>"
      ],
      "text/plain": [
       "5×1 DataFrames.DataFrame\n",
       "│ Row │ length │\n",
       "├─────┼────────┤\n",
       "│ 1   │ 1      │\n",
       "│ 2   │ 2      │\n",
       "│ 3   │ 3      │\n",
       "│ 4   │ 4      │\n",
       "│ 5   │ 5      │"
      ]
     },
     "execution_count": 25,
     "metadata": {},
     "output_type": "execute_result"
    }
   ],
   "source": [
    "df[1:5, [:length]]    # the first 5 rows from :length"
   ]
  },
  {
   "cell_type": "code",
   "execution_count": 27,
   "metadata": {
    "collapsed": false
   },
   "outputs": [
    {
     "data": {
      "text/html": [
       "<table class=\"data-frame\"><thead><tr><th></th><th>length</th><th>height</th></tr></thead><tbody><tr><th>1</th><td>3</td><td>3</td></tr><tr><th>2</th><td>4</td><td>4</td></tr><tr><th>3</th><td>5</td><td>5</td></tr><tr><th>4</th><td>6</td><td>6</td></tr><tr><th>5</th><td>7</td><td>7</td></tr><tr><th>6</th><td>8</td><td>8</td></tr><tr><th>7</th><td>9</td><td>9</td></tr><tr><th>8</th><td>10</td><td>10</td></tr></tbody></table>"
      ],
      "text/plain": [
       "8×2 DataFrames.DataFrame\n",
       "│ Row │ length │ height │\n",
       "├─────┼────────┼────────┤\n",
       "│ 1   │ 3      │ 3      │\n",
       "│ 2   │ 4      │ 4      │\n",
       "│ 3   │ 5      │ 5      │\n",
       "│ 4   │ 6      │ 6      │\n",
       "│ 5   │ 7      │ 7      │\n",
       "│ 6   │ 8      │ 8      │\n",
       "│ 7   │ 9      │ 9      │\n",
       "│ 8   │ 10     │ 10     │"
      ]
     },
     "execution_count": 27,
     "metadata": {},
     "output_type": "execute_result"
    }
   ],
   "source": [
    "df[df[:length] .> 2, :]    # selecting all variables with :length bigger than 2"
   ]
  },
  {
   "cell_type": "code",
   "execution_count": 28,
   "metadata": {
    "collapsed": false
   },
   "outputs": [
    {
     "name": "stdout",
     "output_type": "stream",
     "text": [
      "Bool[false,false,true,true,true,true,true,true,true,true]\n"
     ]
    },
    {
     "data": {
      "text/html": [
       "<table class=\"data-frame\"><thead><tr><th></th><th>length</th><th>height</th></tr></thead><tbody><tr><th>1</th><td>3</td><td>3</td></tr><tr><th>2</th><td>4</td><td>4</td></tr><tr><th>3</th><td>5</td><td>5</td></tr><tr><th>4</th><td>6</td><td>6</td></tr><tr><th>5</th><td>7</td><td>7</td></tr><tr><th>6</th><td>8</td><td>8</td></tr><tr><th>7</th><td>9</td><td>9</td></tr><tr><th>8</th><td>10</td><td>10</td></tr></tbody></table>"
      ],
      "text/plain": [
       "8×2 DataFrames.DataFrame\n",
       "│ Row │ length │ height │\n",
       "├─────┼────────┼────────┤\n",
       "│ 1   │ 3      │ 3      │\n",
       "│ 2   │ 4      │ 4      │\n",
       "│ 3   │ 5      │ 5      │\n",
       "│ 4   │ 6      │ 6      │\n",
       "│ 5   │ 7      │ 7      │\n",
       "│ 6   │ 8      │ 8      │\n",
       "│ 7   │ 9      │ 9      │\n",
       "│ 8   │ 10     │ 10     │"
      ]
     },
     "execution_count": 28,
     "metadata": {},
     "output_type": "execute_result"
    }
   ],
   "source": [
    "ind = df[:length] .> 2\n",
    "println(ind)\n",
    "df[ind, :]"
   ]
  },
  {
   "cell_type": "markdown",
   "metadata": {},
   "source": [
    "### Applying Functions to a Data Frame's Variables"
   ]
  },
  {
   "cell_type": "code",
   "execution_count": 37,
   "metadata": {
    "collapsed": false
   },
   "outputs": [
    {
     "data": {
      "text/plain": [
       "2-element Array{Any,1}:\n",
       " [10]\n",
       " [10]"
      ]
     },
     "execution_count": 37,
     "metadata": {},
     "output_type": "execute_result"
    }
   ],
   "source": [
    "# applying functions column-wise\n",
    "colwise(maximum, df)"
   ]
  },
  {
   "cell_type": "code",
   "execution_count": 38,
   "metadata": {
    "collapsed": false
   },
   "outputs": [
    {
     "data": {
      "text/plain": [
       "2-element Array{Any,1}:\n",
       " [5.5]\n",
       " [5.5]"
      ]
     },
     "execution_count": 38,
     "metadata": {},
     "output_type": "execute_result"
    }
   ],
   "source": [
    "# applying functions to seleceted columns\n",
    "colwise(mean, df[[:length, :height]])"
   ]
  },
  {
   "cell_type": "markdown",
   "metadata": {},
   "source": [
    "### Working with Data Frames"
   ]
  },
  {
   "cell_type": "code",
   "execution_count": 40,
   "metadata": {
    "collapsed": false
   },
   "outputs": [
    {
     "data": {
      "text/plain": [
       "NA"
      ]
     },
     "execution_count": 40,
     "metadata": {},
     "output_type": "execute_result"
    }
   ],
   "source": [
    "\n",
    "df[:weight] = DataArray([10, 20, -1, 15, 25, 5, 10, 20, -1, 5])\n",
    "df[df[:weight] .== -1, :weight] = NA\n",
    "mean(df[:weight])    # returns NA because of two NAs in df[:weight]"
   ]
  },
  {
   "cell_type": "code",
   "execution_count": 41,
   "metadata": {
    "collapsed": false
   },
   "outputs": [
    {
     "data": {
      "text/plain": [
       "10-element BitArray{1}:\n",
       " false\n",
       " false\n",
       "  true\n",
       " false\n",
       " false\n",
       " false\n",
       " false\n",
       " false\n",
       "  true\n",
       " false"
      ]
     },
     "execution_count": 41,
     "metadata": {},
     "output_type": "execute_result"
    }
   ],
   "source": [
    "# How to find NA\n",
    "isna(df[:weight])    # returns Boolean values"
   ]
  },
  {
   "cell_type": "code",
   "execution_count": 42,
   "metadata": {
    "collapsed": false
   },
   "outputs": [
    {
     "data": {
      "text/plain": [
       "2-element Array{Int64,1}:\n",
       " 3\n",
       " 9"
      ]
     },
     "execution_count": 42,
     "metadata": {},
     "output_type": "execute_result"
    }
   ],
   "source": [
    "find(isna(df[:weight]))    # returns indices of NA values"
   ]
  },
  {
   "cell_type": "code",
   "execution_count": 43,
   "metadata": {
    "collapsed": false
   },
   "outputs": [
    {
     "data": {
      "text/plain": [
       "14"
      ]
     },
     "execution_count": 43,
     "metadata": {},
     "output_type": "execute_result"
    }
   ],
   "source": [
    "# Fill NAs with the mean\n",
    "m = round(Int64, mean(df[!isna(df[:weight]), :weight]))\n",
    "df[isna(df[:weight]), :weight] = m"
   ]
  },
  {
   "cell_type": "code",
   "execution_count": 44,
   "metadata": {
    "collapsed": false
   },
   "outputs": [
    {
     "name": "stdout",
     "output_type": "stream",
     "text": [
      "[10,20,14,15,25,5,10,20,14,5]"
     ]
    }
   ],
   "source": [
    "show(df[:weight])"
   ]
  },
  {
   "cell_type": "markdown",
   "metadata": {},
   "source": [
    "### Altering Data Frames"
   ]
  },
  {
   "cell_type": "code",
   "execution_count": 45,
   "metadata": {
    "collapsed": false
   },
   "outputs": [
    {
     "data": {
      "text/html": [
       "<table class=\"data-frame\"><thead><tr><th></th><th>height</th><th>weight</th></tr></thead><tbody><tr><th>1</th><td>1</td><td>10</td></tr><tr><th>2</th><td>2</td><td>20</td></tr><tr><th>3</th><td>3</td><td>14</td></tr><tr><th>4</th><td>4</td><td>15</td></tr><tr><th>5</th><td>5</td><td>25</td></tr><tr><th>6</th><td>6</td><td>5</td></tr><tr><th>7</th><td>7</td><td>10</td></tr><tr><th>8</th><td>8</td><td>20</td></tr><tr><th>9</th><td>9</td><td>14</td></tr><tr><th>10</th><td>10</td><td>5</td></tr></tbody></table>"
      ],
      "text/plain": [
       "10×2 DataFrames.DataFrame\n",
       "│ Row │ height │ weight │\n",
       "├─────┼────────┼────────┤\n",
       "│ 1   │ 1      │ 10     │\n",
       "│ 2   │ 2      │ 20     │\n",
       "│ 3   │ 3      │ 14     │\n",
       "│ 4   │ 4      │ 15     │\n",
       "│ 5   │ 5      │ 25     │\n",
       "│ 6   │ 6      │ 5      │\n",
       "│ 7   │ 7      │ 10     │\n",
       "│ 8   │ 8      │ 20     │\n",
       "│ 9   │ 9      │ 14     │\n",
       "│ 10  │ 10     │ 5      │"
      ]
     },
     "execution_count": 45,
     "metadata": {},
     "output_type": "execute_result"
    }
   ],
   "source": [
    "# How to delete data\n",
    "delete!(df, :length)    # ! makes the function apply to the dataset directly"
   ]
  },
  {
   "cell_type": "code",
   "execution_count": 46,
   "metadata": {
    "collapsed": true
   },
   "outputs": [],
   "source": [
    "# If you want to meddle with the rows, use the push!() and @data() commands:\n",
    "push!(df, @data([6, 15]))    # add a row with values of (6, 15)"
   ]
  },
  {
   "cell_type": "code",
   "execution_count": 47,
   "metadata": {
    "collapsed": false
   },
   "outputs": [
    {
     "data": {
      "text/html": [
       "<table class=\"data-frame\"><thead><tr><th></th><th>height</th><th>weight</th></tr></thead><tbody><tr><th>1</th><td>1</td><td>10</td></tr><tr><th>2</th><td>2</td><td>20</td></tr><tr><th>3</th><td>3</td><td>14</td></tr><tr><th>4</th><td>4</td><td>15</td></tr><tr><th>5</th><td>5</td><td>25</td></tr><tr><th>6</th><td>6</td><td>5</td></tr><tr><th>7</th><td>7</td><td>10</td></tr><tr><th>8</th><td>8</td><td>20</td></tr><tr><th>9</th><td>9</td><td>14</td></tr><tr><th>10</th><td>10</td><td>5</td></tr><tr><th>11</th><td>6</td><td>15</td></tr></tbody></table>"
      ],
      "text/plain": [
       "11×2 DataFrames.DataFrame\n",
       "│ Row │ height │ weight │\n",
       "├─────┼────────┼────────┤\n",
       "│ 1   │ 1      │ 10     │\n",
       "│ 2   │ 2      │ 20     │\n",
       "│ 3   │ 3      │ 14     │\n",
       "│ 4   │ 4      │ 15     │\n",
       "│ 5   │ 5      │ 25     │\n",
       "│ 6   │ 6      │ 5      │\n",
       "│ 7   │ 7      │ 10     │\n",
       "│ 8   │ 8      │ 20     │\n",
       "│ 9   │ 9      │ 14     │\n",
       "│ 10  │ 10     │ 5      │\n",
       "│ 11  │ 6      │ 15     │"
      ]
     },
     "execution_count": 47,
     "metadata": {},
     "output_type": "execute_result"
    }
   ],
   "source": [
    "df"
   ]
  },
  {
   "cell_type": "code",
   "execution_count": 49,
   "metadata": {
    "collapsed": false
   },
   "outputs": [
    {
     "data": {
      "text/html": [
       "<table class=\"data-frame\"><thead><tr><th></th><th>height</th><th>weight</th></tr></thead><tbody><tr><th>1</th><td>1</td><td>10</td></tr><tr><th>2</th><td>2</td><td>20</td></tr><tr><th>3</th><td>3</td><td>14</td></tr><tr><th>4</th><td>4</td><td>15</td></tr><tr><th>5</th><td>5</td><td>25</td></tr><tr><th>6</th><td>6</td><td>5</td></tr><tr><th>7</th><td>7</td><td>10</td></tr><tr><th>8</th><td>8</td><td>20</td></tr></tbody></table>"
      ],
      "text/plain": [
       "8×2 DataFrames.DataFrame\n",
       "│ Row │ height │ weight │\n",
       "├─────┼────────┼────────┤\n",
       "│ 1   │ 1      │ 10     │\n",
       "│ 2   │ 2      │ 20     │\n",
       "│ 3   │ 3      │ 14     │\n",
       "│ 4   │ 4      │ 15     │\n",
       "│ 5   │ 5      │ 25     │\n",
       "│ 6   │ 6      │ 5      │\n",
       "│ 7   │ 7      │ 10     │\n",
       "│ 8   │ 8      │ 20     │"
      ]
     },
     "execution_count": 49,
     "metadata": {},
     "output_type": "execute_result"
    }
   ],
   "source": [
    "# If you wish to delete certain rows, you can do that using the deleterows!() command:\n",
    "deleterows!(df, 9:11)    # delete rows using range\n",
    "df"
   ]
  },
  {
   "cell_type": "code",
   "execution_count": 50,
   "metadata": {
    "collapsed": false
   },
   "outputs": [
    {
     "data": {
      "text/html": [
       "<table class=\"data-frame\"><thead><tr><th></th><th>height</th><th>weight</th></tr></thead><tbody><tr><th>1</th><td>3</td><td>14</td></tr><tr><th>2</th><td>5</td><td>25</td></tr><tr><th>3</th><td>6</td><td>5</td></tr><tr><th>4</th><td>7</td><td>10</td></tr><tr><th>5</th><td>8</td><td>20</td></tr></tbody></table>"
      ],
      "text/plain": [
       "5×2 DataFrames.DataFrame\n",
       "│ Row │ height │ weight │\n",
       "├─────┼────────┼────────┤\n",
       "│ 1   │ 3      │ 14     │\n",
       "│ 2   │ 5      │ 25     │\n",
       "│ 3   │ 6      │ 5      │\n",
       "│ 4   │ 7      │ 10     │\n",
       "│ 5   │ 8      │ 20     │"
      ]
     },
     "execution_count": 50,
     "metadata": {},
     "output_type": "execute_result"
    }
   ],
   "source": [
    "deleterows!(df, [1,2,4])    # delete rows using array\n",
    "df"
   ]
  },
  {
   "cell_type": "markdown",
   "metadata": {},
   "source": [
    "### Sorting the Contents of a Data Frame"
   ]
  },
  {
   "cell_type": "code",
   "execution_count": 51,
   "metadata": {
    "collapsed": false
   },
   "outputs": [
    {
     "data": {
      "text/html": [
       "<table class=\"data-frame\"><thead><tr><th></th><th>weight</th><th>x1</th></tr></thead><tbody><tr><th>1</th><td>5</td><td>1</td></tr><tr><th>2</th><td>10</td><td>1</td></tr><tr><th>3</th><td>14</td><td>1</td></tr><tr><th>4</th><td>20</td><td>1</td></tr><tr><th>5</th><td>25</td><td>1</td></tr></tbody></table>"
      ],
      "text/plain": [
       "5×2 DataFrames.DataFrame\n",
       "│ Row │ weight │ x1 │\n",
       "├─────┼────────┼────┤\n",
       "│ 1   │ 5      │ 1  │\n",
       "│ 2   │ 10     │ 1  │\n",
       "│ 3   │ 14     │ 1  │\n",
       "│ 4   │ 20     │ 1  │\n",
       "│ 5   │ 25     │ 1  │"
      ]
     },
     "execution_count": 51,
     "metadata": {},
     "output_type": "execute_result"
    }
   ],
   "source": [
    "by(df, :weight, nrow)"
   ]
  },
  {
   "cell_type": "code",
   "execution_count": 52,
   "metadata": {
    "collapsed": false
   },
   "outputs": [
    {
     "data": {
      "text/html": [
       "<table class=\"data-frame\"><thead><tr><th></th><th>height</th><th>weight</th></tr></thead><tbody><tr><th>1</th><td>3</td><td>14</td></tr><tr><th>2</th><td>5</td><td>25</td></tr><tr><th>3</th><td>6</td><td>5</td></tr><tr><th>4</th><td>7</td><td>10</td></tr><tr><th>5</th><td>8</td><td>20</td></tr></tbody></table>"
      ],
      "text/plain": [
       "5×2 DataFrames.DataFrame\n",
       "│ Row │ height │ weight │\n",
       "├─────┼────────┼────────┤\n",
       "│ 1   │ 3      │ 14     │\n",
       "│ 2   │ 5      │ 25     │\n",
       "│ 3   │ 6      │ 5      │\n",
       "│ 4   │ 7      │ 10     │\n",
       "│ 5   │ 8      │ 20     │"
      ]
     },
     "execution_count": 52,
     "metadata": {},
     "output_type": "execute_result"
    }
   ],
   "source": [
    "sort!(df, cols = [order(:height), order(:weight)])"
   ]
  },
  {
   "cell_type": "code",
   "execution_count": 53,
   "metadata": {
    "collapsed": false
   },
   "outputs": [
    {
     "data": {
      "text/html": [
       "<table class=\"data-frame\"><thead><tr><th></th><th>height</th><th>weight</th></tr></thead><tbody><tr><th>1</th><td>3</td><td>14</td></tr><tr><th>2</th><td>5</td><td>25</td></tr><tr><th>3</th><td>6</td><td>5</td></tr><tr><th>4</th><td>7</td><td>10</td></tr><tr><th>5</th><td>8</td><td>20</td></tr></tbody></table>"
      ],
      "text/plain": [
       "5×2 DataFrames.DataFrame\n",
       "│ Row │ height │ weight │\n",
       "├─────┼────────┼────────┤\n",
       "│ 1   │ 3      │ 14     │\n",
       "│ 2   │ 5      │ 25     │\n",
       "│ 3   │ 6      │ 5      │\n",
       "│ 4   │ 7      │ 10     │\n",
       "│ 5   │ 8      │ 20     │"
      ]
     },
     "execution_count": 53,
     "metadata": {},
     "output_type": "execute_result"
    }
   ],
   "source": [
    "sort!(df, cols = order(:height))"
   ]
  },
  {
   "cell_type": "markdown",
   "metadata": {},
   "source": [
    "## Importing and Exporting Data"
   ]
  },
  {
   "cell_type": "markdown",
   "metadata": {},
   "source": [
    "### Accessing .JSON Data Files"
   ]
  },
  {
   "cell_type": "code",
   "execution_count": 54,
   "metadata": {
    "collapsed": false
   },
   "outputs": [
    {
     "name": "stderr",
     "output_type": "stream",
     "text": [
      "INFO: No packages to install, update or remove\n",
      "INFO: Package database updated\n"
     ]
    }
   ],
   "source": [
    "Pkg.add(\"JSON\")\n",
    "import JSON\n",
    "\n",
    "f = open(\"file.json\")    # open a .json file\n",
    "X = JSON.parse(f)        # read in a .json file and store in variable X\n",
    "close(f)                 # close a .json file"
   ]
  },
  {
   "cell_type": "markdown",
   "metadata": {},
   "source": [
    "### Storing Data in .JSON Files"
   ]
  },
  {
   "cell_type": "code",
   "execution_count": null,
   "metadata": {
    "collapsed": true
   },
   "outputs": [],
   "source": [
    "f = open(\"test.json\", \"w\")    # open a file name \"test.json\" with writing mode\n",
    "JSON.Print(f, X)              # write X into a file \"test.json\"\n",
    "close(f)                      # close the file"
   ]
  },
  {
   "cell_type": "markdown",
   "metadata": {},
   "source": [
    "### Loading DataFiles into Data Frames"
   ]
  },
  {
   "cell_type": "code",
   "execution_count": null,
   "metadata": {
    "collapsed": true
   },
   "outputs": [],
   "source": [
    "df = readtable(\"CaffeineForTheForce.csv\")\n",
    "df = readtable(\"CaffeineForTheForce.csv\", nastrings = [\"N/A\", \"-\", \"\"])    # remove NA's while reading data in"
   ]
  },
  {
   "cell_type": "markdown",
   "metadata": {},
   "source": [
    "### Saving Data Frames into Data Files"
   ]
  },
  {
   "cell_type": "code",
   "execution_count": null,
   "metadata": {
    "collapsed": true
   },
   "outputs": [],
   "source": [
    "writetable(\"dataset.csv\", df)\n",
    "writetable(\"dataset.tsv\", df)"
   ]
  },
  {
   "cell_type": "markdown",
   "metadata": {},
   "source": [
    "## Cleaning Up Data"
   ]
  },
  {
   "cell_type": "markdown",
   "metadata": {},
   "source": [
    "### Cleaning Up Numeric Data"
   ]
  },
  {
   "cell_type": "markdown",
   "metadata": {},
   "source": [
    "### Cleaning Up Text Data\n",
    "- Punctuation marks\n",
    "- Numbers\n",
    "- Symbols(\"+\", \"*\", \"<\", etc.)\n",
    "- Extra white spaces\n",
    "- Special characters(\"@\", \"~\", etc.)"
   ]
  },
  {
   "cell_type": "code",
   "execution_count": 56,
   "metadata": {
    "collapsed": false
   },
   "outputs": [
    {
     "data": {
      "text/plain": [
       "\"One efficient way of Stripping a given textstored in variable S of most of the irrelevant characters is the following\""
      ]
     },
     "execution_count": 56,
     "metadata": {},
     "output_type": "execute_result"
    }
   ],
   "source": [
    "# Store all characters in a variable Z, removing all things, other than space, metioned above\n",
    "S = \"One efficient way of Stripping a given text(stored in variable S) of most of the irrelevant characters is the following:\"\n",
    "Z = \"\"\n",
    "for c in S\n",
    "    if lowercase(c) in \"qwertyuiopasdfghjklzxcvbnm \"\n",
    "        Z = string(Z, c)\n",
    "    end\n",
    "end\n",
    "Z\n"
   ]
  },
  {
   "cell_type": "markdown",
   "metadata": {},
   "source": [
    "## Formatting and Transforming Data"
   ]
  },
  {
   "cell_type": "markdown",
   "metadata": {},
   "source": [
    "## Formatting Numeric Data"
   ]
  },
  {
   "cell_type": "code",
   "execution_count": 57,
   "metadata": {
    "collapsed": false
   },
   "outputs": [
    {
     "name": "stdout",
     "output_type": "stream",
     "text": [
      "Int8[1,5,3,78,-2,-54]"
     ]
    }
   ],
   "source": [
    "x = [1.0, 5.0, 3.0, 78.0, -2.0, -54.0]    # ::Float64\n",
    "x = convert(Array{Int8}, x)               # ::Int8\n",
    "show(x)"
   ]
  },
  {
   "cell_type": "code",
   "execution_count": 58,
   "metadata": {
    "collapsed": false
   },
   "outputs": [
    {
     "name": "stdout",
     "output_type": "stream",
     "text": [
      "Float16[1.0,5.0,3.0,78.0,-2.0,-54.0]"
     ]
    }
   ],
   "source": [
    "x = convert(Array{Float16}, x)            # ::Float16\n",
    "show(x)"
   ]
  },
  {
   "cell_type": "markdown",
   "metadata": {},
   "source": [
    "### Formatting Text Data"
   ]
  },
  {
   "cell_type": "code",
   "execution_count": 59,
   "metadata": {
    "collapsed": false
   },
   "outputs": [
    {
     "data": {
      "text/plain": [
       "false"
      ]
     },
     "execution_count": 59,
     "metadata": {},
     "output_type": "execute_result"
    }
   ],
   "source": [
    "'c' == \"c\"    # char != String even though they contain the same thing, Julia sees them different"
   ]
  },
  {
   "cell_type": "markdown",
   "metadata": {},
   "source": [
    "### Importance of Data Types\n",
    "- It cannot be stressed enough that data types need to be chosen carefully, \n",
    "  particularly when dealing with large data set.\n",
    "- An incorrect data type may waste valuable resources (especially RAM)."
   ]
  },
  {
   "cell_type": "markdown",
   "metadata": {},
   "source": [
    "## Applying Data Transformations to Numeric Data\n",
    "- Normalization\n",
    "- Discretization\n",
    "- Binarization\n",
    "- Making a binary variable continuous"
   ]
  },
  {
   "cell_type": "markdown",
   "metadata": {},
   "source": [
    "### Normalization\n",
    "- Max-min normalization\n",
    "- Mean-standard deviation normalization\n",
    "- Sigmoidal normalization"
   ]
  },
  {
   "cell_type": "code",
   "execution_count": 66,
   "metadata": {
    "collapsed": false
   },
   "outputs": [
    {
     "data": {
      "text/plain": [
       "10-element Array{Int64,1}:\n",
       "  1\n",
       "  2\n",
       "  3\n",
       "  4\n",
       "  5\n",
       "  6\n",
       "  7\n",
       "  8\n",
       "  9\n",
       " 10"
      ]
     },
     "execution_count": 66,
     "metadata": {},
     "output_type": "execute_result"
    }
   ],
   "source": [
    "x = [1, 2, 3, 4, 5, 6, 7, 8, 9, 10]"
   ]
  },
  {
   "cell_type": "code",
   "execution_count": 69,
   "metadata": {
    "collapsed": false
   },
   "outputs": [
    {
     "data": {
      "text/plain": [
       "10-element Array{Float64,1}:\n",
       " 0.0     \n",
       " 0.111111\n",
       " 0.222222\n",
       " 0.333333\n",
       " 0.444444\n",
       " 0.555556\n",
       " 0.666667\n",
       " 0.777778\n",
       " 0.888889\n",
       " 1.0     "
      ]
     },
     "execution_count": 69,
     "metadata": {},
     "output_type": "execute_result"
    }
   ],
   "source": [
    "# 1. Max-min normalization\n",
    "norm_x_1 = (x - minimum(x)) / (maximum(x) - minimum(x))"
   ]
  },
  {
   "cell_type": "code",
   "execution_count": 68,
   "metadata": {
    "collapsed": false
   },
   "outputs": [
    {
     "data": {
      "text/plain": [
       "10-element Array{Float64,1}:\n",
       " -1.4863  \n",
       " -1.15601 \n",
       " -0.825723\n",
       " -0.495434\n",
       " -0.165145\n",
       "  0.165145\n",
       "  0.495434\n",
       "  0.825723\n",
       "  1.15601 \n",
       "  1.4863  "
      ]
     },
     "execution_count": 68,
     "metadata": {},
     "output_type": "execute_result"
    }
   ],
   "source": [
    "# 2. Mean_Standard deviation normalization\n",
    "norm_x_2 = (x - mean(x)) / std(x)"
   ]
  },
  {
   "cell_type": "code",
   "execution_count": 70,
   "metadata": {
    "collapsed": false
   },
   "outputs": [
    {
     "data": {
      "text/plain": [
       "10-element Array{Float64,1}:\n",
       " 0.731059\n",
       " 0.880797\n",
       " 0.952574\n",
       " 0.982014\n",
       " 0.993307\n",
       " 0.997527\n",
       " 0.999089\n",
       " 0.999665\n",
       " 0.999877\n",
       " 0.999955"
      ]
     },
     "execution_count": 70,
     "metadata": {},
     "output_type": "execute_result"
    }
   ],
   "source": [
    "# 3. Sigmoidal normalization\n",
    "norm_x_3 = 1 ./ (1 + exp(-x))"
   ]
  },
  {
   "cell_type": "markdown",
   "metadata": {},
   "source": [
    "### Discretization(Binning) and Binarization"
   ]
  },
  {
   "cell_type": "code",
   "execution_count": 72,
   "metadata": {
    "collapsed": false
   },
   "outputs": [
    {
     "name": "stdout",
     "output_type": "stream",
     "text": [
      "Bool[true,true,false,false,false]"
     ]
    }
   ],
   "source": [
    "# turning age_new variable into 3 binary ones\n",
    "age_new = [\"young\", \"young\", \"mature\", \"middle-aged\", \"mature\"]\n",
    "is_young = (age_new .== \"young\")\n",
    "is_middle_aged = (age_new .== \"middle-aged\")\n",
    "is_mature = (age_new .== \"mature\")\n",
    "show(is_young)"
   ]
  },
  {
   "cell_type": "code",
   "execution_count": 73,
   "metadata": {
    "collapsed": false
   },
   "outputs": [
    {
     "name": "stdout",
     "output_type": "stream",
     "text": [
      "Bool[false,false,false,false,false,true,true,false,true]"
     ]
    }
   ],
   "source": [
    "# handling missing values\n",
    "age_new = [\"young\", \"young\", \"mature\", \"middle-aged\", \"mature\", \"\", \"NA\", \"mature\", \"\"]\n",
    "is_missing = (age_new .== \"\") | (age_new .== \"NA\")\n",
    "show(is_missing)"
   ]
  },
  {
   "cell_type": "code",
   "execution_count": 74,
   "metadata": {
    "collapsed": false
   },
   "outputs": [
    {
     "name": "stdout",
     "output_type": "stream",
     "text": [
      "Bool[false,false,false,false,false,true,true,false,true]"
     ]
    }
   ],
   "source": [
    "# handling missing values using list comprehension\n",
    "NA_denotations = [\"\", \"NA\"]\n",
    "age_new = [\"young\", \"young\", \"mature\", \"middle-aged\", \"mature\", \"\", \"NA\", \"mature\", \"\"]\n",
    "is_missing_lc = [age_value in NA_denotations for age_value in age_new]\n",
    "show(is_missing_lc)"
   ]
  },
  {
   "cell_type": "markdown",
   "metadata": {},
   "source": [
    "### Binary to Continuous (Binaray Classification Only)\n",
    "- The relative risk transformation\n",
    "- The odd-ratio"
   ]
  },
  {
   "cell_type": "code",
   "execution_count": null,
   "metadata": {
    "collapsed": true
   },
   "outputs": [],
   "source": []
  },
  {
   "cell_type": "markdown",
   "metadata": {},
   "source": [
    "### Applying Data Transformations to Text Data\n",
    "- Changing the case of the text\n",
    "- Turning the whole thing into a vector"
   ]
  },
  {
   "cell_type": "markdown",
   "metadata": {},
   "source": [
    "### Case Normalization"
   ]
  },
  {
   "cell_type": "code",
   "execution_count": 75,
   "metadata": {
    "collapsed": false
   },
   "outputs": [
    {
     "data": {
      "text/plain": [
       "\"mr. smith is particularly fond of product #2235; what a surprise!\""
      ]
     },
     "execution_count": 75,
     "metadata": {},
     "output_type": "execute_result"
    }
   ],
   "source": [
    "S = \"Mr. Smith is particularly fond of product #2235; What a surprise!\"\n",
    "S_new = lowercase(S)"
   ]
  },
  {
   "cell_type": "code",
   "execution_count": 76,
   "metadata": {
    "collapsed": false
   },
   "outputs": [
    {
     "data": {
      "text/plain": [
       "\"MR. SMITH IS PARTICULARLY FOND OF PRODUCT #2235; WHAT A SURPRISE!\""
      ]
     },
     "execution_count": 76,
     "metadata": {},
     "output_type": "execute_result"
    }
   ],
   "source": [
    "S_upper = uppercase(S)\n",
    "# lowercase() or uppercase() functions do not make any changes on non-alphabetic characters"
   ]
  },
  {
   "cell_type": "markdown",
   "metadata": {},
   "source": [
    "### Vectorization"
   ]
  },
  {
   "cell_type": "code",
   "execution_count": 83,
   "metadata": {
    "collapsed": false
   },
   "outputs": [
    {
     "data": {
      "text/plain": [
       "4-element Array{String,1}:\n",
       " \"Julia is a relatively new programming language\"   \n",
       " \"Julia can be used in data science\"                \n",
       " \"Data science is used to derive insights from data\"\n",
       " \"Data is often noisy\"                              "
      ]
     },
     "execution_count": 83,
     "metadata": {},
     "output_type": "execute_result"
    }
   ],
   "source": [
    "X = [\"Julia is a relatively new programming language\", \n",
    "    \"Julia can be used in data science\", \"Data science is used to derive insights from data\", \n",
    "    \"Data is often noisy\"]"
   ]
  },
  {
   "cell_type": "code",
   "execution_count": 86,
   "metadata": {
    "collapsed": false
   },
   "outputs": [
    {
     "data": {
      "text/plain": [
       "19-element Array{SubString{String},1}:\n",
       " \"a\"          \n",
       " \"be\"         \n",
       " \"can\"        \n",
       " \"data\"       \n",
       " \"derive\"     \n",
       " \"from\"       \n",
       " \"in\"         \n",
       " \"insights\"   \n",
       " \"is\"         \n",
       " \"julia\"      \n",
       " \"language\"   \n",
       " \"new\"        \n",
       " \"noisy\"      \n",
       " \"often\"      \n",
       " \"programming\"\n",
       " \"relatively\" \n",
       " \"science\"    \n",
       " \"to\"         \n",
       " \"used\"       "
      ]
     },
     "execution_count": 86,
     "metadata": {},
     "output_type": "execute_result"
    }
   ],
   "source": [
    "temp = [split(lowercase(x), \" \") for x in X]\n",
    "vocabulary = unique(temp[1])\n",
    "for T in temp[2:end]\n",
    "    vocabulary = union(vocabulary, T)\n",
    "end\n",
    "vocabulary = sort(vocabulary)"
   ]
  },
  {
   "cell_type": "code",
   "execution_count": 94,
   "metadata": {
    "collapsed": false
   },
   "outputs": [
    {
     "data": {
      "text/plain": [
       "4×19 Array{Int8,2}:\n",
       " 1  0  0  0  0  0  0  0  1  1  1  1  0  0  1  1  0  0  0\n",
       " 0  1  1  1  0  0  1  0  0  1  0  0  0  0  0  0  1  0  1\n",
       " 0  0  0  1  1  1  0  1  1  0  0  0  0  0  0  0  1  1  1\n",
       " 0  0  0  1  0  0  0  0  1  0  0  0  1  1  0  0  0  0  0"
      ]
     },
     "execution_count": 94,
     "metadata": {},
     "output_type": "execute_result"
    }
   ],
   "source": [
    "N = length(vocabulary)\n",
    "n = length(X)\n",
    "\n",
    "VX = zeros(Int8, n, N)    # Vectorized X\n",
    "for i in 1:n\n",
    "    temp = split(lowercase(X[i]))\n",
    "    for T in temp\n",
    "        ind = find(T .== vocabulary)\n",
    "        VX[i, ind] = 1\n",
    "    end\n",
    "end\n",
    "VX"
   ]
  },
  {
   "cell_type": "markdown",
   "metadata": {},
   "source": [
    "## Preliminary Evaluation of Features"
   ]
  },
  {
   "cell_type": "markdown",
   "metadata": {},
   "source": [
    "### Regression\n",
    "- Examine the absolute value of the coefficient of a regression model, such as linear regression, support vector machine(SVM), or decision tree\n",
    "- Calculate the absolute value of the correlation of that feature with the target variable(particularly the rank-based correlation)\n",
    "\n",
    "The higher each one of these two values is, the better the feature in general."
   ]
  },
  {
   "cell_type": "markdown",
   "metadata": {},
   "source": [
    "### Classification\n",
    "- Index of discernibility\n",
    "- Fisher's Discriminant Ratio\n",
    "- Similarity index\n",
    "- Jaccard Similarity\n",
    "- Mutual Information"
   ]
  },
  {
   "cell_type": "code",
   "execution_count": null,
   "metadata": {
    "collapsed": true
   },
   "outputs": [],
   "source": []
  }
 ],
 "metadata": {
  "anaconda-cloud": {},
  "kernelspec": {
   "display_name": "Julia 0.5.0",
   "language": "julia",
   "name": "julia-0.5"
  },
  "language_info": {
   "file_extension": ".jl",
   "mimetype": "application/julia",
   "name": "julia",
   "version": "0.5.0"
  }
 },
 "nbformat": 4,
 "nbformat_minor": 1
}
