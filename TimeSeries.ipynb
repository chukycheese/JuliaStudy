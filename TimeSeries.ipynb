{
 "cells": [
  {
   "cell_type": "code",
   "execution_count": 1,
   "metadata": {
    "collapsed": false
   },
   "outputs": [
    {
     "name": "stderr",
     "output_type": "stream",
     "text": [
      "INFO: Precompiling module MarketData.\n"
     ]
    }
   ],
   "source": [
    "using MarketData"
   ]
  },
  {
   "cell_type": "code",
   "execution_count": 3,
   "metadata": {
    "collapsed": false
   },
   "outputs": [
    {
     "data": {
      "text/plain": [
       "8336x12 TimeSeries.TimeArray{Float64,2,Date,Array{Float64,2}} 1980-12-12 to 2013-12-31\n",
       "\n",
       "             Open      High      Low       Close     Volume          Ex-Dividend  Split Ratio  Adj. Open  Adj. High  Adj. Low  Adj. Close  Adj. Volume     \n",
       "1980-12-12 | 28.75     28.88     28.75     28.75     2093900         0.0          1            3.3766     3.3919     3.3766    3.3766      16751200        \n",
       "1980-12-15 | 27.38     27.38     27.25     27.25     785200          0.0          1            3.2157     3.2157     3.2004    3.2004      6281600         \n",
       "1980-12-16 | 25.38     25.38     25.25     25.25     472000          0.0          1            2.9808     2.9808     2.9655    2.9655      3776000         \n",
       "1980-12-17 | 25.88     26.0      25.88     25.88     385900          0.0          1            3.0395     3.0536     3.0395    3.0395      3087200         \n",
       "⋮\n",
       "2013-12-26 | 568.1     569.5     563.38    563.9     7286000         0.0          1            564.7392   566.1309   560.0471  560.564     7286000         \n",
       "2013-12-27 | 563.82    564.41    559.5     560.09    8067300         0.0          1            560.4845   561.071    556.1901  556.7766    8067300         \n",
       "2013-12-30 | 557.46    560.09    552.32    554.52    9058200         0.0          1            554.1621   556.7766   549.0525  551.2395    9058200         \n",
       "2013-12-31 | 554.17    561.28    554.0     561.02    7967300         0.0          1            550.8916   557.9595   550.7226  557.7011    7967300         \n"
      ]
     },
     "execution_count": 3,
     "metadata": {},
     "output_type": "execute_result"
    }
   ],
   "source": [
    "AAPL"
   ]
  },
  {
   "cell_type": "code",
   "execution_count": 4,
   "metadata": {
    "collapsed": false
   },
   "outputs": [
    {
     "name": "stdout",
     "output_type": "stream",
     "text": [
      "search: AAPL DataType airyaiprime asyncmap unsafe_wrap AbstractSparseArray\n",
      "\n"
     ]
    },
    {
     "data": {
      "text/markdown": [
       "No documentation found.\n",
       "\n",
       "`MarketData.AAPL` is of type `TimeSeries.TimeArray{Float64,2,Date,Array{Float64,2}}`.\n",
       "\n",
       "**Summary:**\n",
       "\n",
       "```\n",
       "immutable TimeSeries.TimeArray{Float64,2,Date,Array{Float64,2}} <: TimeSeries.AbstractTimeSeries\n",
       "```\n",
       "\n",
       "**Fields:**\n",
       "\n",
       "```\n",
       "timestamp :: Array{Date,1}\n",
       "values    :: Array{Float64,2}\n",
       "colnames  :: Array{String,1}\n",
       "meta      :: Any\n",
       "```\n"
      ],
      "text/plain": [
       "No documentation found.\n",
       "\n",
       "`MarketData.AAPL` is of type `TimeSeries.TimeArray{Float64,2,Date,Array{Float64,2}}`.\n",
       "\n",
       "**Summary:**\n",
       "\n",
       "```\n",
       "immutable TimeSeries.TimeArray{Float64,2,Date,Array{Float64,2}} <: TimeSeries.AbstractTimeSeries\n",
       "```\n",
       "\n",
       "**Fields:**\n",
       "\n",
       "```\n",
       "timestamp :: Array{Date,1}\n",
       "values    :: Array{Float64,2}\n",
       "colnames  :: Array{String,1}\n",
       "meta      :: Any\n",
       "```\n"
      ]
     },
     "execution_count": 4,
     "metadata": {},
     "output_type": "execute_result"
    }
   ],
   "source": [
    "?AAPL"
   ]
  },
  {
   "cell_type": "code",
   "execution_count": 5,
   "metadata": {
    "collapsed": false
   },
   "outputs": [
    {
     "name": "stdout",
     "output_type": "stream",
     "text": [
      "search:\n",
      "\n"
     ]
    },
    {
     "data": {
      "text/markdown": [
       "No documentation found.\n",
       "\n",
       "Displaying the `README.md` for the module instead.\n",
       "\n",
       "---\n",
       "\n",
       "# TimeSeries.jl\n",
       "\n",
       "[![Build Status](https://travis-ci.org/JuliaStats/TimeSeries.jl.svg?branch=master)](https://travis-ci.org/JuliaStats/TimeSeries.jl) [![Coverage Status](https://coveralls.io/repos/JuliaStats/TimeSeries.jl/badge.svg?branch=master)](https://coveralls.io/r/JuliaStats/TimeSeries.jl?branch=master) [![TimeSeries](http://pkg.julialang.org/badges/TimeSeries_0.4.svg)](http://pkg.julialang.org/?pkg=TimeSeries&ver=0.4) [![TimeSeries](http://pkg.julialang.org/badges/TimeSeries_0.5.svg)](http://pkg.julialang.org/?pkg=TimeSeries&ver=0.5) [![Documentation Status](https://readthedocs.org/projects/timeseriesjl/badge/?version=latest)](http://timeseriesjl.readthedocs.io/en/latest/?badge=latest)\n",
       "\n",
       "TimeSeries aims to provide a lightweight framework for working with time series data in Julia. Documentation is provided  [here](http://timeseriesjl.readthedocs.org/en/latest/).\n"
      ],
      "text/plain": [
       "No documentation found.\n",
       "\n",
       "Displaying the `README.md` for the module instead.\n",
       "\n",
       "---\n",
       "\n",
       "# TimeSeries.jl\n",
       "\n",
       "[![Build Status](https://travis-ci.org/JuliaStats/TimeSeries.jl.svg?branch=master)](https://travis-ci.org/JuliaStats/TimeSeries.jl) [![Coverage Status](https://coveralls.io/repos/JuliaStats/TimeSeries.jl/badge.svg?branch=master)](https://coveralls.io/r/JuliaStats/TimeSeries.jl?branch=master) [![TimeSeries](http://pkg.julialang.org/badges/TimeSeries_0.4.svg)](http://pkg.julialang.org/?pkg=TimeSeries&ver=0.4) [![TimeSeries](http://pkg.julialang.org/badges/TimeSeries_0.5.svg)](http://pkg.julialang.org/?pkg=TimeSeries&ver=0.5) [![Documentation Status](https://readthedocs.org/projects/timeseriesjl/badge/?version=latest)](http://timeseriesjl.readthedocs.io/en/latest/?badge=latest)\n",
       "\n",
       "TimeSeries aims to provide a lightweight framework for working with time series data in Julia. Documentation is provided  [here](http://timeseriesjl.readthedocs.org/en/latest/).\n"
      ]
     },
     "execution_count": 5,
     "metadata": {},
     "output_type": "execute_result"
    }
   ],
   "source": [
    "?TimeSeries"
   ]
  },
  {
   "cell_type": "code",
   "execution_count": 6,
   "metadata": {
    "collapsed": false
   },
   "outputs": [
    {
     "name": "stdout",
     "output_type": "stream",
     "text": [
      "8336x12 TimeSeries.TimeArray{Float64,2,Date,Array{Float64,2}} 1980-12-12 to 2013-12-31\n",
      "\n",
      "             Open      High      Low       Close     Volume          Ex-Dividend  Split Ratio  Adj. Open  Adj. High  Adj. Low  Adj. Close  Adj. Volume     \n",
      "1980-12-12 | 28.75     28.88     28.75     28.75     2093900         0.0          1            3.3766     3.3919     3.3766    3.3766      16751200        \n",
      "1980-12-15 | 27.38     27.38     27.25     27.25     785200          0.0          1            3.2157     3.2157     3.2004    3.2004      6281600         \n",
      "1980-12-16 | 25.38     25.38     25.25     25.25     472000          0.0          1            2.9808     2.9808     2.9655    2.9655      3776000         \n",
      "1980-12-17 | 25.88     26.0      25.88     25.88     385900          0.0          1            3.0395     3.0536     3.0395    3.0395      3087200         \n",
      "⋮\n",
      "2013-12-26 | 568.1     569.5     563.38    563.9     7286000         0.0          1            564.7392   566.1309   560.0471  560.564     7286000         \n",
      "2013-12-27 | 563.82    564.41    559.5     560.09    8067300         0.0          1            560.4845   561.071    556.1901  556.7766    8067300         \n",
      "2013-12-30 | 557.46    560.09    552.32    554.52    9058200         0.0          1            554.1621   556.7766   549.0525  551.2395    9058200         \n",
      "2013-12-31 | 554.17    561.28    554.0     561.02    7967300         0.0          1            550.8916   557.9595   550.7226  557.7011    7967300         \n"
     ]
    }
   ],
   "source": [
    "show(AAPL)"
   ]
  },
  {
   "cell_type": "code",
   "execution_count": 7,
   "metadata": {
    "collapsed": false
   },
   "outputs": [
    {
     "data": {
      "text/plain": [
       "8336x12 TimeSeries.TimeArray{Float64,2,Date,Array{Float64,2}} 1980-12-12 to 2013-12-31\n",
       "\n",
       "             Open      High      Low       Close     Volume          Ex-Dividend  Split Ratio  Adj. Open  Adj. High  Adj. Low  Adj. Close  Adj. Volume     \n",
       "1980-12-12 | 28.75     28.88     28.75     28.75     2093900         0.0          1            3.3766     3.3919     3.3766    3.3766      16751200        \n",
       "1980-12-15 | 27.38     27.38     27.25     27.25     785200          0.0          1            3.2157     3.2157     3.2004    3.2004      6281600         \n",
       "1980-12-16 | 25.38     25.38     25.25     25.25     472000          0.0          1            2.9808     2.9808     2.9655    2.9655      3776000         \n",
       "1980-12-17 | 25.88     26.0      25.88     25.88     385900          0.0          1            3.0395     3.0536     3.0395    3.0395      3087200         \n",
       "⋮\n",
       "2013-12-26 | 568.1     569.5     563.38    563.9     7286000         0.0          1            564.7392   566.1309   560.0471  560.564     7286000         \n",
       "2013-12-27 | 563.82    564.41    559.5     560.09    8067300         0.0          1            560.4845   561.071    556.1901  556.7766    8067300         \n",
       "2013-12-30 | 557.46    560.09    552.32    554.52    9058200         0.0          1            554.1621   556.7766   549.0525  551.2395    9058200         \n",
       "2013-12-31 | 554.17    561.28    554.0     561.02    7967300         0.0          1            550.8916   557.9595   550.7226  557.7011    7967300         \n"
      ]
     },
     "execution_count": 7,
     "metadata": {},
     "output_type": "execute_result"
    }
   ],
   "source": [
    "ohlc = AAPL"
   ]
  },
  {
   "cell_type": "code",
   "execution_count": 8,
   "metadata": {
    "collapsed": false
   },
   "outputs": [
    {
     "data": {
      "text/plain": [
       "1x12 TimeSeries.TimeArray{Float64,2,Date,Array{Float64,2}} 1980-12-12 to 1980-12-12\n",
       "\n",
       "             Open     High     Low      Close    Volume        Ex-Dividend  Split Ratio  Adj. Open  Adj. High  Adj. Low  Adj. Close  Adj. Volume    \n",
       "1980-12-12 | 28.75    28.88    28.75    28.75    2093900       0            1            3.3766     3.3919     3.3766    3.3766      16751200       \n"
      ]
     },
     "execution_count": 8,
     "metadata": {},
     "output_type": "execute_result"
    }
   ],
   "source": [
    "ohlc[1]"
   ]
  },
  {
   "cell_type": "code",
   "execution_count": 9,
   "metadata": {
    "collapsed": false
   },
   "outputs": [
    {
     "data": {
      "text/plain": [
       "3x12 TimeSeries.TimeArray{Float64,2,Date,Array{Float64,2}} 1980-12-12 to 1980-12-16\n",
       "\n",
       "             Open     High     Low      Close    Volume        Ex-Dividend  Split Ratio  Adj. Open  Adj. High  Adj. Low  Adj. Close  Adj. Volume    \n",
       "1980-12-12 | 28.75    28.88    28.75    28.75    2093900       0            1            3.3766     3.3919     3.3766    3.3766      16751200       \n",
       "1980-12-15 | 27.38    27.38    27.25    27.25    785200        0            1            3.2157     3.2157     3.2004    3.2004      6281600        \n",
       "1980-12-16 | 25.38    25.38    25.25    25.25    472000        0            1            2.9808     2.9808     2.9655    2.9655      3776000        \n"
      ]
     },
     "execution_count": 9,
     "metadata": {},
     "output_type": "execute_result"
    }
   ],
   "source": [
    "ohlc[1:3]"
   ]
  },
  {
   "cell_type": "code",
   "execution_count": 13,
   "metadata": {
    "collapsed": false
   },
   "outputs": [
    {
     "data": {
      "text/plain": [
       "4x12 TimeSeries.TimeArray{Float64,2,Date,Array{Float64,2}} 1980-12-12 to 1980-12-23\n",
       "\n",
       "             Open     High     Low      Close    Volume        Ex-Dividend  Split Ratio  Adj. Open  Adj. High  Adj. Low  Adj. Close  Adj. Volume    \n",
       "1980-12-12 | 28.75    28.88    28.75    28.75    2093900       0            1            3.3766     3.3919     3.3766    3.3766      16751200       \n",
       "1980-12-15 | 27.38    27.38    27.25    27.25    785200        0            1            3.2157     3.2157     3.2004    3.2004      6281600        \n",
       "1980-12-16 | 25.38    25.38    25.25    25.25    472000        0            1            2.9808     2.9808     2.9655    2.9655      3776000        \n",
       "1980-12-23 | 30.88    31.0     30.88    30.88    209600        0            1            3.6267     3.6408     3.6267    3.6267      1676800        \n"
      ]
     },
     "execution_count": 13,
     "metadata": {},
     "output_type": "execute_result"
    }
   ],
   "source": [
    "ohlc[[1:3; 8]]"
   ]
  },
  {
   "cell_type": "code",
   "execution_count": 14,
   "metadata": {
    "collapsed": false
   },
   "outputs": [
    {
     "data": {
      "text/plain": [
       "8336x1 TimeSeries.TimeArray{Float64,1,Date,Array{Float64,1}} 1980-12-12 to 2013-12-31\n",
       "\n",
       "             Open      \n",
       "1980-12-12 | 28.75     \n",
       "1980-12-15 | 27.38     \n",
       "1980-12-16 | 25.38     \n",
       "1980-12-17 | 25.88     \n",
       "⋮\n",
       "2013-12-26 | 568.1     \n",
       "2013-12-27 | 563.82    \n",
       "2013-12-30 | 557.46    \n",
       "2013-12-31 | 554.17    \n"
      ]
     },
     "execution_count": 14,
     "metadata": {},
     "output_type": "execute_result"
    }
   ],
   "source": [
    "ohlc[\"Open\"]"
   ]
  },
  {
   "cell_type": "code",
   "execution_count": 16,
   "metadata": {
    "collapsed": false
   },
   "outputs": [
    {
     "data": {
      "text/plain": [
       "8336x4 TimeSeries.TimeArray{Float64,2,Date,Array{Float64,2}} 1980-12-12 to 2013-12-31\n",
       "\n",
       "             Open      High      Low       Close     \n",
       "1980-12-12 | 28.75     28.88     28.75     28.75     \n",
       "1980-12-15 | 27.38     27.38     27.25     27.25     \n",
       "1980-12-16 | 25.38     25.38     25.25     25.25     \n",
       "1980-12-17 | 25.88     26.0      25.88     25.88     \n",
       "⋮\n",
       "2013-12-26 | 568.1     569.5     563.38    563.9     \n",
       "2013-12-27 | 563.82    564.41    559.5     560.09    \n",
       "2013-12-30 | 557.46    560.09    552.32    554.52    \n",
       "2013-12-31 | 554.17    561.28    554.0     561.02    \n"
      ]
     },
     "execution_count": 16,
     "metadata": {},
     "output_type": "execute_result"
    }
   ],
   "source": [
    "ohlc = AAPL[\"Open\", \"High\", \"Low\", \"Close\"]"
   ]
  },
  {
   "cell_type": "code",
   "execution_count": 18,
   "metadata": {
    "collapsed": false
   },
   "outputs": [
    {
     "data": {
      "text/plain": [
       "1x4 TimeSeries.TimeArray{Float64,2,Date,Array{Float64,2}} 2000-01-03 to 2000-01-03\n",
       "\n",
       "             Open      High      Low       Close     \n",
       "2000-01-03 | 104.88    112.5     101.69    111.94    \n"
      ]
     },
     "execution_count": 18,
     "metadata": {},
     "output_type": "execute_result"
    }
   ],
   "source": [
    "ohlc[Date(2000,1,3)]"
   ]
  },
  {
   "cell_type": "code",
   "execution_count": 19,
   "metadata": {
    "collapsed": false
   },
   "outputs": [
    {
     "data": {
      "text/plain": [
       "2x4 TimeSeries.TimeArray{Float64,2,Date,Array{Float64,2}} 2000-01-03 to 2000-02-04\n",
       "\n",
       "             Open      High      Low       Close     \n",
       "2000-01-03 | 104.88    112.5     101.69    111.94    \n",
       "2000-02-04 | 103.94    110.0     103.62    108.0     \n"
      ]
     },
     "execution_count": 19,
     "metadata": {},
     "output_type": "execute_result"
    }
   ],
   "source": [
    "ohlc[[Date(2000,1,3),Date(2000,2,4)]]"
   ]
  },
  {
   "cell_type": "code",
   "execution_count": 20,
   "metadata": {
    "collapsed": false
   },
   "outputs": [
    {
     "data": {
      "text/plain": [
       "24x4 TimeSeries.TimeArray{Float64,2,Date,Array{Float64,2}} 2000-01-03 to 2000-02-04\n",
       "\n",
       "             Open      High      Low       Close     \n",
       "2000-01-03 | 104.88    112.5     101.69    111.94    \n",
       "2000-01-04 | 108.25    110.62    101.19    102.5     \n",
       "2000-01-05 | 103.75    110.56    103.0     104.0     \n",
       "2000-01-06 | 106.12    107.0     95.0      95.0      \n",
       "⋮\n",
       "2000-02-01 | 104.0     105.0     100.0     100.25    \n",
       "2000-02-02 | 100.75    102.12    97.0      98.81     \n",
       "2000-02-03 | 100.31    104.25    100.25    103.31    \n",
       "2000-02-04 | 103.94    110.0     103.62    108.0     \n"
      ]
     },
     "execution_count": 20,
     "metadata": {},
     "output_type": "execute_result"
    }
   ],
   "source": [
    "ohlc[Date(2000,1,3):Date(2000,2,4)]"
   ]
  },
  {
   "cell_type": "code",
   "execution_count": 23,
   "metadata": {
    "collapsed": false
   },
   "outputs": [
    {
     "data": {
      "text/plain": [
       "20x4 TimeSeries.TimeArray{Float64,2,Date,Array{Float64,2}} 2000-01-03 to 2000-01-31\n",
       "\n",
       "             Open      High      Low       Close     \n",
       "2000-01-03 | 104.88    112.5     101.69    111.94    \n",
       "2000-01-04 | 108.25    110.62    101.19    102.5     \n",
       "2000-01-05 | 103.75    110.56    103.0     104.0     \n",
       "2000-01-06 | 106.12    107.0     95.0      95.0      \n",
       "⋮\n",
       "2000-01-26 | 110.0     114.19    109.75    110.19    \n",
       "2000-01-27 | 108.81    113.0     107.0     110.0     \n",
       "2000-01-28 | 108.19    110.88    100.62    101.62    \n",
       "2000-01-31 | 101.0     103.88    94.5      103.75    \n"
      ]
     },
     "execution_count": 23,
     "metadata": {},
     "output_type": "execute_result"
    }
   ],
   "source": [
    "ohlc[Date(2000, 1, 1):Date(2000, 1, 31)]"
   ]
  },
  {
   "cell_type": "code",
   "execution_count": 24,
   "metadata": {
    "collapsed": false
   },
   "outputs": [
    {
     "data": {
      "text/plain": [
       "3x1 TimeSeries.TimeArray{Float64,1,Date,Array{Float64,1}} 1980-12-12 to 1980-12-16\n",
       "\n",
       "             Open     \n",
       "1980-12-12 | 28.75    \n",
       "1980-12-15 | 27.38    \n",
       "1980-12-16 | 25.38    \n"
      ]
     },
     "execution_count": 24,
     "metadata": {},
     "output_type": "execute_result"
    }
   ],
   "source": [
    "ohlc[\"Open\"][1:3]"
   ]
  },
  {
   "cell_type": "code",
   "execution_count": 29,
   "metadata": {
    "collapsed": false
   },
   "outputs": [
    {
     "data": {
      "text/plain": [
       "1580x4 TimeSeries.TimeArray{Float64,2,Date,Array{Float64,2}} 1980-12-15 to 2013-12-30\n",
       "\n",
       "             Open      High      Low       Close     \n",
       "1980-12-15 | 27.38     27.38     27.25     27.25     \n",
       "1980-12-22 | 29.62     29.75     29.62     29.62     \n",
       "1980-12-29 | 36.0      36.12     36.0      36.0      \n",
       "1981-01-05 | 33.88     33.88     33.75     33.75     \n",
       "⋮\n",
       "2013-12-09 | 560.9     569.58    560.9     566.43    \n",
       "2013-12-16 | 555.02    562.64    555.01    557.5     \n",
       "2013-12-23 | 568.0     570.72    562.76    570.09    \n",
       "2013-12-30 | 557.46    560.09    552.32    554.52    \n"
      ]
     },
     "execution_count": 29,
     "metadata": {},
     "output_type": "execute_result"
    }
   ],
   "source": [
    "when(ohlc, dayofweek, 1)"
   ]
  },
  {
   "cell_type": "code",
   "execution_count": 28,
   "metadata": {
    "collapsed": false
   },
   "outputs": [],
   "source": [
    "using TimeSeries"
   ]
  },
  {
   "cell_type": "code",
   "execution_count": 31,
   "metadata": {
    "collapsed": false
   },
   "outputs": [
    {
     "data": {
      "text/plain": [
       "1708x4 TimeSeries.TimeArray{Float64,2,Date,Array{Float64,2}} 1980-12-16 to 2013-12-31\n",
       "\n",
       "             Open      High      Low       Close     \n",
       "1980-12-16 | 25.38     25.38     25.25     25.25     \n",
       "1980-12-23 | 30.88     31.0      30.88     30.88     \n",
       "1980-12-30 | 35.25     35.25     35.12     35.12     \n",
       "1981-01-06 | 32.38     32.38     32.25     32.25     \n",
       "⋮\n",
       "2013-12-10 | 563.58    567.88    561.2     565.55    \n",
       "2013-12-17 | 555.81    559.44    553.38    554.99    \n",
       "2013-12-24 | 569.89    571.88    566.03    567.67    \n",
       "2013-12-31 | 554.17    561.28    554.0     561.02    \n"
      ]
     },
     "execution_count": 31,
     "metadata": {},
     "output_type": "execute_result"
    }
   ],
   "source": [
    "when(ohlc, dayname, \"Tuesday\")"
   ]
  },
  {
   "cell_type": "code",
   "execution_count": 33,
   "metadata": {
    "collapsed": false
   },
   "outputs": [
    {
     "data": {
      "text/plain": [
       "3x1 TimeSeries.TimeArray{Float64,1,Date,Array{Float64,1}} 2001-12-27 to 2001-12-31\n",
       "\n",
       "             Close    \n",
       "2001-12-27 | 22.07    \n",
       "2001-12-28 | 22.43    \n",
       "2001-12-31 | 21.9     \n"
      ]
     },
     "execution_count": 33,
     "metadata": {},
     "output_type": "execute_result"
    }
   ],
   "source": [
    "from(cl, Date(2001, 12, 27))"
   ]
  },
  {
   "cell_type": "code",
   "execution_count": 35,
   "metadata": {
    "collapsed": false
   },
   "outputs": [
    {
     "data": {
      "text/plain": [
       "3636-element Array{Date,1}:\n",
       " 1982-10-04\n",
       " 1982-10-05\n",
       " 1982-10-06\n",
       " 1982-10-07\n",
       " 1982-10-08\n",
       " 1982-10-11\n",
       " 1982-10-13\n",
       " 1982-10-14\n",
       " 1982-10-18\n",
       " 1982-10-19\n",
       " 1982-10-20\n",
       " 1982-10-21\n",
       " 1982-10-26\n",
       " ⋮         \n",
       " 2013-11-25\n",
       " 2013-11-26\n",
       " 2013-11-27\n",
       " 2013-11-29\n",
       " 2013-12-03\n",
       " 2013-12-09\n",
       " 2013-12-10\n",
       " 2013-12-16\n",
       " 2013-12-18\n",
       " 2013-12-20\n",
       " 2013-12-23\n",
       " 2013-12-31"
      ]
     },
     "execution_count": 35,
     "metadata": {},
     "output_type": "execute_result"
    }
   ],
   "source": [
    "green = findwhen(ohlc[\"Close\"] .> ohlc[\"Open\"])\n",
    "green"
   ]
  },
  {
   "cell_type": "code",
   "execution_count": 39,
   "metadata": {
    "collapsed": false
   },
   "outputs": [
    {
     "data": {
      "text/plain": [
       "TimeSeries.TimeArray{Bool,1,Date,BitArray{1}}"
      ]
     },
     "execution_count": 39,
     "metadata": {},
     "output_type": "execute_result"
    }
   ],
   "source": [
    "typeof(ohlc[\"Close\"] .> ohlc[\"Open\"])"
   ]
  },
  {
   "cell_type": "code",
   "execution_count": 37,
   "metadata": {
    "collapsed": false
   },
   "outputs": [
    {
     "name": "stdout",
     "output_type": "stream",
     "text": [
      "search: find findn findnz findin findmin findmax findall findprev findnext\n",
      "\n"
     ]
    },
    {
     "data": {
      "text/markdown": [
       "```\n",
       "find(f::Function, A)\n",
       "```\n",
       "\n",
       "Return a vector `I` of the linear indexes of `A` where `f(A[I])` returns `true`. If there are no such elements of `A`, find returns an empty array.\n",
       "\n",
       "```jldoctest\n",
       "julia> A = [1 2; 3 4]\n",
       "2×2 Array{Int64,2}:\n",
       " 1  2\n",
       " 3  4\n",
       "\n",
       "julia> find(isodd,A)\n",
       "2-element Array{Int64,1}:\n",
       " 1\n",
       " 2\n",
       "```\n",
       "\n",
       "```\n",
       "find(A)\n",
       "```\n",
       "\n",
       "Return a vector of the linear indexes of the non-zeros in `A` (determined by `A[i]!=0`). A common use of this is to convert a boolean array to an array of indexes of the `true` elements. If there are no non-zero elements of `A`, `find` returns an empty array.\n",
       "\n",
       "```jldoctest\n",
       "julia> A = [true false; false true]\n",
       "2×2 Array{Bool,2}:\n",
       "  true  false\n",
       " false   true\n",
       "\n",
       "julia> find(A)\n",
       "2-element Array{Int64,1}:\n",
       " 1\n",
       " 4\n",
       "```\n"
      ],
      "text/plain": [
       "```\n",
       "find(f::Function, A)\n",
       "```\n",
       "\n",
       "Return a vector `I` of the linear indexes of `A` where `f(A[I])` returns `true`. If there are no such elements of `A`, find returns an empty array.\n",
       "\n",
       "```jldoctest\n",
       "julia> A = [1 2; 3 4]\n",
       "2×2 Array{Int64,2}:\n",
       " 1  2\n",
       " 3  4\n",
       "\n",
       "julia> find(isodd,A)\n",
       "2-element Array{Int64,1}:\n",
       " 1\n",
       " 2\n",
       "```\n",
       "\n",
       "```\n",
       "find(A)\n",
       "```\n",
       "\n",
       "Return a vector of the linear indexes of the non-zeros in `A` (determined by `A[i]!=0`). A common use of this is to convert a boolean array to an array of indexes of the `true` elements. If there are no non-zero elements of `A`, `find` returns an empty array.\n",
       "\n",
       "```jldoctest\n",
       "julia> A = [true false; false true]\n",
       "2×2 Array{Bool,2}:\n",
       "  true  false\n",
       " false   true\n",
       "\n",
       "julia> find(A)\n",
       "2-element Array{Int64,1}:\n",
       " 1\n",
       " 4\n",
       "```\n"
      ]
     },
     "execution_count": 37,
     "metadata": {},
     "output_type": "execute_result"
    }
   ],
   "source": [
    "?find"
   ]
  },
  {
   "cell_type": "code",
   "execution_count": 40,
   "metadata": {
    "collapsed": false
   },
   "outputs": [
    {
     "name": "stdout",
     "output_type": "stream",
     "text": [
      "search: head Threads @threadcall blas_set_num_threads hessfact hessfact!\n",
      "\n"
     ]
    },
    {
     "data": {
      "text/markdown": [
       "No documentation found.\n",
       "\n",
       "`TimeSeries.head` is a `Function`.\n",
       "\n",
       "```\n",
       "# 2 methods for generic function \"head\":\n",
       "head{T,N,D}(ta::TimeSeries.TimeArray{T,N,D,A<:AbstractArray}) at C:\\Users\\ChuKY\\.julia\\v0.5\\TimeSeries\\src\\split.jl:33\n",
       "head{T,N,D}(ta::TimeSeries.TimeArray{T,N,D,A<:AbstractArray}, n::Int64) at C:\\Users\\ChuKY\\.julia\\v0.5\\TimeSeries\\src\\split.jl:33\n",
       "```\n"
      ],
      "text/plain": [
       "No documentation found.\n",
       "\n",
       "`TimeSeries.head` is a `Function`.\n",
       "\n",
       "```\n",
       "# 2 methods for generic function \"head\":\n",
       "head{T,N,D}(ta::TimeSeries.TimeArray{T,N,D,A<:AbstractArray}) at C:\\Users\\ChuKY\\.julia\\v0.5\\TimeSeries\\src\\split.jl:33\n",
       "head{T,N,D}(ta::TimeSeries.TimeArray{T,N,D,A<:AbstractArray}, n::Int64) at C:\\Users\\ChuKY\\.julia\\v0.5\\TimeSeries\\src\\split.jl:33\n",
       "```\n"
      ]
     },
     "execution_count": 40,
     "metadata": {},
     "output_type": "execute_result"
    }
   ],
   "source": [
    "?head"
   ]
  },
  {
   "cell_type": "code",
   "execution_count": 41,
   "metadata": {
    "collapsed": false
   },
   "outputs": [
    {
     "name": "stdout",
     "output_type": "stream",
     "text": [
      "search: update\n",
      "\n"
     ]
    },
    {
     "data": {
      "text/markdown": [
       "No documentation found.\n",
       "\n",
       "`TimeSeries.update` is a `Function`.\n",
       "\n",
       "```\n",
       "# 2 methods for generic function \"update\":\n",
       "update{T,N,D}(ta::TimeSeries.TimeArray{T,N,D,A<:AbstractArray}, tstamp::D, val::Array{T,N}) at C:\\Users\\ChuKY\\.julia\\v0.5\\TimeSeries\\src\\modify.jl:5\n",
       "update{T,N,D}(ta::TimeSeries.TimeArray{T,N,D,A<:AbstractArray}, tstamp::D, val::T) at C:\\Users\\ChuKY\\.julia\\v0.5\\TimeSeries\\src\\modify.jl:19\n",
       "```\n"
      ],
      "text/plain": [
       "No documentation found.\n",
       "\n",
       "`TimeSeries.update` is a `Function`.\n",
       "\n",
       "```\n",
       "# 2 methods for generic function \"update\":\n",
       "update{T,N,D}(ta::TimeSeries.TimeArray{T,N,D,A<:AbstractArray}, tstamp::D, val::Array{T,N}) at C:\\Users\\ChuKY\\.julia\\v0.5\\TimeSeries\\src\\modify.jl:5\n",
       "update{T,N,D}(ta::TimeSeries.TimeArray{T,N,D,A<:AbstractArray}, tstamp::D, val::T) at C:\\Users\\ChuKY\\.julia\\v0.5\\TimeSeries\\src\\modify.jl:19\n",
       "```\n"
      ]
     },
     "execution_count": 41,
     "metadata": {},
     "output_type": "execute_result"
    }
   ],
   "source": [
    "?update"
   ]
  },
  {
   "cell_type": "code",
   "execution_count": null,
   "metadata": {
    "collapsed": true
   },
   "outputs": [],
   "source": []
  }
 ],
 "metadata": {
  "kernelspec": {
   "display_name": "Julia 0.5.0",
   "language": "julia",
   "name": "julia-0.5"
  },
  "language_info": {
   "file_extension": ".jl",
   "mimetype": "application/julia",
   "name": "julia",
   "version": "0.5.0"
  }
 },
 "nbformat": 4,
 "nbformat_minor": 1
}
