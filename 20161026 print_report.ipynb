{
 "cells": [
  {
   "cell_type": "markdown",
   "metadata": {},
   "source": [
    "# Type System"
   ]
  },
  {
   "cell_type": "markdown",
   "metadata": {},
   "source": [
    "name  | math  | stat  | sum  \n",
    "c     | 70    | 80    | 150  \n",
    "a     | 20    | 50    | 70   \n",
    "b     | 0     | 20    | 20  \n",
    "\n",
    "이렇게 생긴 성적표를 만들어 보자."
   ]
  },
  {
   "cell_type": "markdown",
   "metadata": {},
   "source": [
    "## type 정의하기"
   ]
  },
  {
   "cell_type": "code",
   "execution_count": 1,
   "metadata": {
    "collapsed": true
   },
   "outputs": [],
   "source": [
    "type Student\n",
    "    name::String    # name 변수의 형태를 정의해주는 기호 ::\n",
    "    subject::Dict   # subject 변수의 형태는 Dict(사전) 으로\n",
    "end"
   ]
  },
  {
   "cell_type": "code",
   "execution_count": 2,
   "metadata": {
    "collapsed": false
   },
   "outputs": [
    {
     "data": {
      "text/plain": [
       "Dict{K,V}"
      ]
     },
     "execution_count": 2,
     "metadata": {},
     "output_type": "execute_result"
    }
   ],
   "source": [
    "Dict  # 사전은 Key 와 Value 로 이루어져 있다."
   ]
  },
  {
   "cell_type": "code",
   "execution_count": 3,
   "metadata": {
    "collapsed": false
   },
   "outputs": [
    {
     "data": {
      "text/plain": [
       "2-element Array{String,1}:\n",
       " \"math\"\n",
       " \"stat\""
      ]
     },
     "execution_count": 3,
     "metadata": {},
     "output_type": "execute_result"
    }
   ],
   "source": [
    "# subjects 라는 변수를 만들자. 이 변수는 이후 사전의 key 로 사용된다.\n",
    "subjects = [\"math\", \"stat\"]"
   ]
  },
  {
   "cell_type": "code",
   "execution_count": 4,
   "metadata": {
    "collapsed": false
   },
   "outputs": [
    {
     "data": {
      "text/plain": [
       "Student(\"b\",Dict(\"math\"=>50,\"stat\"=>40))"
      ]
     },
     "execution_count": 4,
     "metadata": {},
     "output_type": "execute_result"
    }
   ],
   "source": [
    "# 이제 학생 a, b 를 만들어 math 와 stat 에 점수를 넣어주자.\n",
    "a = Student(\"a\", Dict(\"math\"=>20, \"stat\"=>50)) # Student 라는 자료형에 들어가는 인자로 \"a\"(String), 그리고 Dict() 를 받았다.\n",
    "b = Student(\"b\", Dict(\"math\"=>50, \"stat\"=>40))"
   ]
  },
  {
   "cell_type": "code",
   "execution_count": 5,
   "metadata": {
    "collapsed": false
   },
   "outputs": [
    {
     "data": {
      "text/plain": [
       "2-element Array{Student,1}:\n",
       " Student(\"a\",Dict(\"math\"=>20,\"stat\"=>50))\n",
       " Student(\"b\",Dict(\"math\"=>50,\"stat\"=>40))"
      ]
     },
     "execution_count": 5,
     "metadata": {},
     "output_type": "execute_result"
    }
   ],
   "source": [
    "[a, b]"
   ]
  },
  {
   "cell_type": "code",
   "execution_count": 6,
   "metadata": {
    "collapsed": false
   },
   "outputs": [
    {
     "data": {
      "text/plain": [
       "printstudent (generic function with 1 method)"
      ]
     },
     "execution_count": 6,
     "metadata": {},
     "output_type": "execute_result"
    }
   ],
   "source": [
    "# 잘 입력됐다. 하지만 우리가 원하는 형태로 나오지는 않는다. \n",
    "# for loop 와 println() 함수를 이용해서 한 줄씩 나오게 하는 함수를 만들어보자.\n",
    "function printstudent(s::Student, subject)    # 함수의 인자로는 Student type 과 subject 를 받는다.\n",
    "    print(s.name, \" | \")\n",
    "    for sub in subject\n",
    "        print(s.subject[sub], \" | \")\n",
    "    end\n",
    "    println()    # 한 줄 띄어주기\n",
    "end"
   ]
  },
  {
   "cell_type": "code",
   "execution_count": 7,
   "metadata": {
    "collapsed": false
   },
   "outputs": [
    {
     "name": "stdout",
     "output_type": "stream",
     "text": [
      "a | 20 | 50 | \n",
      "b | 50 | 40 | \n"
     ]
    }
   ],
   "source": [
    "# 함수가 잘 작동하는 지 살펴보자.\n",
    "printstudent(a, subjects)\n",
    "printstudent(b, subjects)"
   ]
  },
  {
   "cell_type": "code",
   "execution_count": 8,
   "metadata": {
    "collapsed": false
   },
   "outputs": [
    {
     "name": "stdout",
     "output_type": "stream",
     "text": [
      "a | 20 | 50 | \n",
      "b | 50 | 40 | \n"
     ]
    }
   ],
   "source": [
    "# 잘 작동하므로 이제는 for loop 으로 한 번에 작동하게 만들자.\n",
    "for s in [a, b]\n",
    "    printstudent(s, subjects)\n",
    "end\n",
    "# end 로 끝내주는 것을 잊지 말자."
   ]
  },
  {
   "cell_type": "code",
   "execution_count": 9,
   "metadata": {
    "collapsed": false
   },
   "outputs": [
    {
     "name": "stdout",
     "output_type": "stream",
     "text": [
      "name | math | stat | \n"
     ]
    }
   ],
   "source": [
    "# 이제는 표의 윗부분에 들어 갈 header 를 만들어보자.\n",
    "# name  |  math  |  stat 의 형태가 되어야한다.\n",
    "print(\"name\", \" | \")\n",
    "for sub in subjects\n",
    "    print(sub, \" | \")\n",
    "end\n",
    "println()    # print() 함수는 같은 줄에 인쇄를 해주고 println() 함수는 줄을 바꿔서 인쇄해준다.\n",
    "# 이제 header 도 완성됐다. "
   ]
  },
  {
   "cell_type": "code",
   "execution_count": 10,
   "metadata": {
    "collapsed": false
   },
   "outputs": [
    {
     "name": "stdout",
     "output_type": "stream",
     "text": [
      "name | math | stat | \n",
      "a | 20 | 50 | \n",
      "b | 50 | 40 | \n"
     ]
    }
   ],
   "source": [
    "# 이제 이 둘을 합쳐보자.\n",
    "print(\"name\", \" | \")\n",
    "for sub in subjects\n",
    "    print(sub, \" | \")\n",
    "end\n",
    "println()\n",
    "\n",
    "for s in [a, b]\n",
    "    printstudent(s, subjects)\n",
    "end\n",
    "# 보기가 좋지는 않지만 완성은 됐다. "
   ]
  },
  {
   "cell_type": "code",
   "execution_count": 11,
   "metadata": {
    "collapsed": false
   },
   "outputs": [
    {
     "data": {
      "text/plain": [
       "pad (generic function with 1 method)"
      ]
     },
     "execution_count": 11,
     "metadata": {},
     "output_type": "execute_result"
    }
   ],
   "source": [
    "# 그럼 이제 줄에 맞춰보도록 하자. 우리가 사용할 함수는 다음 두 함수들이다.\n",
    "# ?lpad    # lpad 는 왼쪽에 공백을 줘서 오른쪽으로 정렬\n",
    "# ?rpad    # rpad 는 오른쪽에 공백을 줘서 왼쪽으로 정렬시켜주는 함수이다. \n",
    "function pad(s)\n",
    "    lpad(s, 5)\n",
    "end\n",
    "# lpad() 를 이용해서 오른쪽으로 정렬시켜주는 함수를 만들었다. "
   ]
  },
  {
   "cell_type": "code",
   "execution_count": 12,
   "metadata": {
    "collapsed": false
   },
   "outputs": [
    {
     "name": "stdout",
     "output_type": "stream",
     "text": [
      " name |  math |  stat | \n",
      "a | 20 | 50 | \n",
      "b | 50 | 40 | \n"
     ]
    }
   ],
   "source": [
    "# 그럼 각각의 문자열에 공백을 줘서 열을 맞춰보도록 하자.\n",
    "print(pad(\"name\"), \" | \")\n",
    "for sub in subjects\n",
    "    print(pad(sub), \" | \")\n",
    "end\n",
    "println()\n",
    "\n",
    "for s in [a, b]\n",
    "    printstudent(s, subjects)\n",
    "end\n",
    "# header 는 정렬이 됐지만 아직 body 는 그대로다. "
   ]
  },
  {
   "cell_type": "code",
   "execution_count": 13,
   "metadata": {
    "collapsed": false
   },
   "outputs": [
    {
     "name": "stderr",
     "output_type": "stream",
     "text": [
      "WARNING: Method definition printstudent"
     ]
    },
    {
     "data": {
      "text/plain": [
       "printstudent (generic function with 1 method)"
      ]
     },
     "execution_count": 13,
     "metadata": {},
     "output_type": "execute_result"
    }
   ],
   "source": [
    "# printstudent() 함수 내에서도 pad() 를 통해 재정렬 해주자.\n",
    "function printstudent(s::Student, subject)  \n",
    "    print(pad(s.name), \" | \")\n",
    "    for sub in subject\n",
    "        print(pad(s.subject[sub]), \" | \")\n",
    "    end\n",
    "    println()    # 한 줄 띄어주기\n",
    "end"
   ]
  },
  {
   "cell_type": "code",
   "execution_count": 14,
   "metadata": {
    "collapsed": false
   },
   "outputs": [
    {
     "name": "stdout",
     "output_type": "stream",
     "text": [
      " name |  math"
     ]
    },
    {
     "name": "stderr",
     "output_type": "stream",
     "text": [
      "(Main.Student"
     ]
    },
    {
     "name": "stdout",
     "output_type": "stream",
     "text": [
      " |  stat | \n",
      "    a |    20 |    50 | \n",
      "    b |    50 |    40 | \n"
     ]
    },
    {
     "name": "stderr",
     "output_type": "stream",
     "text": [
      ", Any) in module Main at In[6]:4 overwritten at In[13]:3.\n"
     ]
    }
   ],
   "source": [
    "# 음, 이제 보기 좋게 나오는 것을 알 수 있다.\n",
    "print(pad(\"name\"), \" | \")\n",
    "for sub in subjects\n",
    "    print(pad(sub), \" | \")\n",
    "end\n",
    "println()\n",
    "\n",
    "for s in [a, b]\n",
    "    printstudent(s, subjects)\n",
    "end"
   ]
  },
  {
   "cell_type": "code",
   "execution_count": 15,
   "metadata": {
    "collapsed": false
   },
   "outputs": [
    {
     "name": "stdout",
     "output_type": "stream",
     "text": [
      " name |  math |  stat |   sum\n"
     ]
    }
   ],
   "source": [
    "# 이제 math 와 stat 의 합을 통해 sum 을 만들어보자.\n",
    "# header 에 sum 을 넣어주고,\n",
    "print(pad(\"name\"), \" | \")\n",
    "for sub in subjects\n",
    "    print(pad(sub), \" | \")\n",
    "end\n",
    "print(pad(\"sum\"))\n",
    "println()"
   ]
  },
  {
   "cell_type": "code",
   "execution_count": 16,
   "metadata": {
    "collapsed": false
   },
   "outputs": [
    {
     "name": "stderr",
     "output_type": "stream",
     "text": [
      "WARNING: Method definition printstudent"
     ]
    },
    {
     "data": {
      "text/plain": [
       "printstudent (generic function with 1 method)"
      ]
     },
     "execution_count": 16,
     "metadata": {},
     "output_type": "execute_result"
    }
   ],
   "source": [
    "# printstudent() 를 수정해서 sum 의 값을 만들어주자.\n",
    "function printstudent(s::Student, subject)  \n",
    "    print(pad(s.name), \" | \")\n",
    "    sum_score = 0    # sum_score 라는 변수 정의\n",
    "    for sub in subject\n",
    "        print(pad(s.subject[sub]), \" | \")\n",
    "        sum_score += s.subject[sub]\n",
    "    end\n",
    "    print(pad(sum_score))\n",
    "    println()    # 한 줄 띄어주기\n",
    "end"
   ]
  },
  {
   "cell_type": "code",
   "execution_count": 17,
   "metadata": {
    "collapsed": false
   },
   "outputs": [
    {
     "name": "stdout",
     "output_type": "stream",
     "text": [
      "    a |    20 |    50 |    70\n"
     ]
    },
    {
     "name": "stderr",
     "output_type": "stream",
     "text": [
      "(Main.Student, Any) in module Main at In[13]:3"
     ]
    }
   ],
   "source": [
    "# 함수가 제대로 작동하는 것을 알 수 있다.\n",
    "printstudent(a, subjects)"
   ]
  },
  {
   "cell_type": "code",
   "execution_count": 18,
   "metadata": {
    "collapsed": false
   },
   "outputs": [
    {
     "name": "stderr",
     "output_type": "stream",
     "text": [
      " overwritten"
     ]
    },
    {
     "name": "stdout",
     "output_type": "stream",
     "text": [
      " name |  math |  stat |   sum\n",
      "    a |    20 |    50 |    70\n",
      "    b |    50 |    40 |    90\n"
     ]
    },
    {
     "name": "stderr",
     "output_type": "stream",
     "text": [
      " at In[16]:3.\n"
     ]
    }
   ],
   "source": [
    "# header 와 body 를 합쳐보자.\n",
    "print(pad(\"name\"), \" | \")\n",
    "for sub in subjects\n",
    "    print(pad(sub), \" | \")\n",
    "end\n",
    "print(pad(\"sum\"))\n",
    "println()\n",
    "\n",
    "for s in [a, b]\n",
    "    printstudent(s, subjects)\n",
    "end\n",
    "# 예쁘게 잘 나온다. "
   ]
  },
  {
   "cell_type": "code",
   "execution_count": 19,
   "metadata": {
    "collapsed": false
   },
   "outputs": [
    {
     "ename": "LoadError",
     "evalue": "LoadError: MethodError: no method matching isless(::Student, ::Student)\nwhile loading In[19], in expression starting on line 2",
     "output_type": "error",
     "traceback": [
      "LoadError: MethodError: no method matching isless(::Student, ::Student)\nwhile loading In[19], in expression starting on line 2",
      "",
      " in sort!(::Array{Student,1}, ::Int64, ::Int64, ::Base.Sort.InsertionSortAlg, ::Base.Order.ForwardOrdering) at .\\sort.jl:222",
      " in sort!(::Array{Student,1}, ::Int64, ::Int64, ::Base.Sort.MergeSortAlg, ::Base.Order.ForwardOrdering, ::Array{Student,1}) at .\\sort.jl:311",
      " in sort!(::Array{Student,1}, ::Base.Sort.MergeSortAlg, ::Base.Order.ForwardOrdering) at .\\sort.jl:405",
      " in #sort#8(::Array{Any,1}, ::Function, ::Array{Student,1}) at .\\sort.jl:417",
      " in sort(::Array{Student,1}) at .\\sort.jl:417"
     ]
    }
   ],
   "source": [
    "# 그렇다면 sum 을 기준으로 내림차순으로 정렬하도록 함수를 바꿔보자.\n",
    "sort([a, b])\n",
    "# 그렇다. 에러가 뜨는 것을 알 수 있다. Student type 은 임의로 정한 것이기 때문에 isless() 에서는 작동하지 않는다. "
   ]
  },
  {
   "cell_type": "code",
   "execution_count": 20,
   "metadata": {
    "collapsed": true
   },
   "outputs": [],
   "source": [
    "# 그러니 isless 를 바꿔주자. \n",
    "function Base.isless(l::Student, r::Student)\n",
    "    sum(values(l.subject)) < sum(values(r.subject))\n",
    "end"
   ]
  },
  {
   "cell_type": "code",
   "execution_count": 21,
   "metadata": {
    "collapsed": false
   },
   "outputs": [
    {
     "data": {
      "text/plain": [
       "2-element Array{Student,1}:\n",
       " Student(\"a\",Dict(\"math\"=>20,\"stat\"=>50))\n",
       " Student(\"b\",Dict(\"math\"=>50,\"stat\"=>40))"
      ]
     },
     "execution_count": 21,
     "metadata": {},
     "output_type": "execute_result"
    }
   ],
   "source": [
    "sort([a, b])    # 이제 정렬은 되는데 오름차순이다. "
   ]
  },
  {
   "cell_type": "code",
   "execution_count": 22,
   "metadata": {
    "collapsed": false
   },
   "outputs": [
    {
     "data": {
      "text/plain": [
       "2-element Array{Student,1}:\n",
       " Student(\"b\",Dict(\"math\"=>50,\"stat\"=>40))\n",
       " Student(\"a\",Dict(\"math\"=>20,\"stat\"=>50))"
      ]
     },
     "execution_count": 22,
     "metadata": {},
     "output_type": "execute_result"
    }
   ],
   "source": [
    "# sort() 의 argument 중 'rev = true' 를 이용해보자.\n",
    "sort([a, b], rev = true)\n",
    "# 오름차순으로 잘 정렬됐다."
   ]
  },
  {
   "cell_type": "code",
   "execution_count": 23,
   "metadata": {
    "collapsed": false
   },
   "outputs": [
    {
     "name": "stdout",
     "output_type": "stream",
     "text": [
      " name |  math |  stat |   sum\n",
      "    b |    50 |    40 |    90\n",
      "    a |    20 |    50 |    70\n"
     ]
    }
   ],
   "source": [
    "# 그렇다면 다시 적용을 해봐야지.\n",
    "print(pad(\"name\"), \" | \")\n",
    "for sub in subjects\n",
    "    print(pad(sub), \" | \")\n",
    "end\n",
    "print(pad(\"sum\"))\n",
    "println()\n",
    "\n",
    "for s in sort([a, b], rev = true)\n",
    "    printstudent(s, subjects)\n",
    "end\n",
    "# 우리가 원했던 그 결과다. "
   ]
  },
  {
   "cell_type": "code",
   "execution_count": 24,
   "metadata": {
    "collapsed": false
   },
   "outputs": [
    {
     "data": {
      "text/plain": [
       "print_report (generic function with 1 method)"
      ]
     },
     "execution_count": 24,
     "metadata": {},
     "output_type": "execute_result"
    }
   ],
   "source": [
    "# for 문을 길게 쓰는 것도 지겹다. 함수로 만들어버리자.\n",
    "function print_report(student::Vector{Student})\n",
    "    print(pad(\"name\"), \" | \")\n",
    "    for sub in subjects\n",
    "        print(pad(sub), \" | \")\n",
    "    end\n",
    "    print(pad(\"sum\"))\n",
    "    println()\n",
    "\n",
    "    for s in sort(student, rev = true)\n",
    "        printstudent(s, subjects)\n",
    "    end\n",
    "end"
   ]
  },
  {
   "cell_type": "code",
   "execution_count": 25,
   "metadata": {
    "collapsed": false
   },
   "outputs": [
    {
     "name": "stdout",
     "output_type": "stream",
     "text": [
      " name |  math |  stat |   sum\n",
      "    b |    50 |    40 |    90\n",
      "    a |    20 |    50 |    70\n"
     ]
    }
   ],
   "source": [
    "# 확인해보자.\n",
    "print_report([a, b])\n",
    "# 오!!! "
   ]
  },
  {
   "cell_type": "code",
   "execution_count": 26,
   "metadata": {
    "collapsed": false
   },
   "outputs": [
    {
     "name": "stdout",
     "output_type": "stream",
     "text": [
      " name |  math |  stat |   sum\n",
      "    c |    70 |    80 |   150\n",
      "    b |    50 |    40 |    90\n",
      "    a |    20 |    50 |    70\n"
     ]
    }
   ],
   "source": [
    "# 그렇다면 새로운 학생 c를 추가해볼까?\n",
    "c = Student(\"c\", Dict(\"math\"=>70, \"stat\"=>80))\n",
    "print_report([a, b, c])\n",
    "\n",
    "# 효과는 굉장했다!!"
   ]
  }
 ],
 "metadata": {
  "anaconda-cloud": {},
  "kernelspec": {
   "display_name": "Julia 0.5.0",
   "language": "julia",
   "name": "julia-0.5"
  },
  "language_info": {
   "file_extension": ".jl",
   "mimetype": "application/julia",
   "name": "julia",
   "version": "0.5.0"
  }
 },
 "nbformat": 4,
 "nbformat_minor": 0
}
