{
 "cells": [
  {
   "cell_type": "code",
   "execution_count": 4,
   "metadata": {
    "collapsed": false
   },
   "outputs": [],
   "source": [
    "using DataFrames, DataArrays"
   ]
  },
  {
   "cell_type": "code",
   "execution_count": 5,
   "metadata": {
    "collapsed": false
   },
   "outputs": [
    {
     "data": {
      "text/html": [
       "<table class=\"data-frame\"><thead><tr><th></th><th>ID</th><th>MoviesWatched</th><th>FavoriteEpisode</th><th>Age</th><th>Gender</th><th>BlogRole</th><th>MoneySpent</th><th>FavoriteProduct</th></tr></thead><tbody><tr><th>1</th><td>1</td><td>-</td><td>VI</td><td>-</td><td>M</td><td>ActiveUser</td><td>1050</td><td>VideoGame</td></tr><tr><th>2</th><td>2</td><td>3</td><td>VI</td><td>45</td><td>-</td><td>NormalUser</td><td>1000</td><td>Book</td></tr><tr><th>3</th><td>3</td><td>44</td><td>IV</td><td>33</td><td>F</td><td>-</td><td>650</td><td>Book</td></tr><tr><th>4</th><td>4</td><td>3</td><td>-</td><td>40</td><td>M</td><td>Moderator</td><td>11000</td><td>Book</td></tr><tr><th>5</th><td>5</td><td>7</td><td>VI</td><td>25</td><td>F</td><td>NormalUser</td><td>100</td><td>App</td></tr><tr><th>6</th><td>6</td><td>7</td><td>IV</td><td>29</td><td>M</td><td>ActiveUser</td><td>250</td><td>VideoGame</td></tr><tr><th>7</th><td>7</td><td>4</td><td>VI</td><td>37</td><td>M</td><td>Moderator</td><td>700</td><td>Book</td></tr><tr><th>8</th><td>8</td><td>6</td><td>III</td><td>20</td><td>M</td><td>ActiveUser</td><td>350</td><td>VideoGame</td></tr><tr><th>9</th><td>9</td><td>7</td><td>IV</td><td>27</td><td>M</td><td>ActiveUser</td><td>450</td><td>App</td></tr><tr><th>10</th><td>10</td><td>7</td><td>IV</td><td>30</td><td>F</td><td>NormalUser</td><td>350</td><td>Book</td></tr><tr><th>11</th><td>11</td><td>5</td><td>-</td><td>33</td><td>M</td><td>NormalUser</td><td>50</td><td>None</td></tr><tr><th>12</th><td>12</td><td>7</td><td>VII</td><td>-</td><td>-</td><td>ActiveUser</td><td>300</td><td>App</td></tr><tr><th>13</th><td>13</td><td>3</td><td>IV</td><td>39</td><td>F</td><td>NormalUser</td><td>300</td><td>App</td></tr><tr><th>14</th><td>14</td><td>-</td><td>VII</td><td>42</td><td>M</td><td>-</td><td>400</td><td>App</td></tr><tr><th>15</th><td>15</td><td>4</td><td>V</td><td>45</td><td>M</td><td>ActiveUser</td><td>100</td><td>None</td></tr><tr><th>16</th><td>16</td><td>7</td><td>VI</td><td>48</td><td>F</td><td>NormalUser</td><td>250</td><td>Book</td></tr><tr><th>17</th><td>17</td><td>77</td><td>IV</td><td>51</td><td>M</td><td>NormalUser</td><td>400</td><td>App</td></tr><tr><th>18</th><td>18</td><td>7</td><td>VI</td><td>54</td><td>M</td><td>NormalUser</td><td>550</td><td>Book</td></tr><tr><th>19</th><td>19</td><td>6</td><td>V</td><td>57</td><td>M</td><td>NormalUser</td><td>450</td><td>Book</td></tr><tr><th>20</th><td>20</td><td>4</td><td>VI</td><td>60</td><td>M</td><td>-</td><td>100</td><td>None</td></tr><tr><th>21</th><td>21</td><td>5</td><td>IV</td><td>-</td><td>M</td><td>NormalUser</td><td>150</td><td>Book</td></tr><tr><th>22</th><td>22</td><td>3</td><td>V</td><td>66</td><td>M</td><td>NormalUser</td><td>50</td><td>None</td></tr><tr><th>23</th><td>23</td><td>4</td><td>IV</td><td>34</td><td>M</td><td>ActiveUser</td><td>250</td><td>VideoGame</td></tr><tr><th>24</th><td>24</td><td>-</td><td>-</td><td>45</td><td>-</td><td>NormalUser</td><td>300</td><td>Book</td></tr><tr><th>25</th><td>25</td><td>4</td><td>V</td><td>33</td><td>M</td><td>ActiveUser</td><td>350</td><td>App</td></tr><tr><th>26</th><td>26</td><td>7</td><td>VI</td><td>40</td><td>F</td><td>ActiveUser</td><td>50</td><td>None</td></tr><tr><th>27</th><td>27</td><td>7</td><td>IV</td><td>26</td><td>M</td><td>ActiveUser</td><td>200</td><td>VideoGame</td></tr><tr><th>28</th><td>28</td><td>7</td><td>VII</td><td>29</td><td>M</td><td>ActiveUser</td><td>250</td><td>App</td></tr><tr><th>29</th><td>29</td><td>5</td><td>IV</td><td>37</td><td>M</td><td>ActiveUser</td><td>500</td><td>VideoGame</td></tr><tr><th>30</th><td>30</td><td>6</td><td>IV</td><td>21</td><td>M</td><td>ActiveUser</td><td>250</td><td>App</td></tr><tr><th>&vellip;</th><td>&vellip;</td><td>&vellip;</td><td>&vellip;</td><td>&vellip;</td><td>&vellip;</td><td>&vellip;</td><td>&vellip;</td><td>&vellip;</td></tr></tbody></table>"
      ],
      "text/plain": [
       "100×8 DataFrames.DataFrame\n",
       "│ Row │ ID  │ MoviesWatched │ FavoriteEpisode │ Age   │ Gender │ BlogRole     │\n",
       "├─────┼─────┼───────────────┼─────────────────┼───────┼────────┼──────────────┤\n",
       "│ 1   │ 1   │ \"-\"           │ \"VI\"            │ \"-\"   │ \"M\"    │ \"ActiveUser\" │\n",
       "│ 2   │ 2   │ \"3\"           │ \"VI\"            │ \"45\"  │ \"-\"    │ \"NormalUser\" │\n",
       "│ 3   │ 3   │ \"44\"          │ \"IV\"            │ \"33\"  │ \"F\"    │ \"-\"          │\n",
       "│ 4   │ 4   │ \"3\"           │ \"-\"             │ \"40\"  │ \"M\"    │ \"Moderator\"  │\n",
       "│ 5   │ 5   │ \"7\"           │ \"VI\"            │ \"25\"  │ \"F\"    │ \"NormalUser\" │\n",
       "│ 6   │ 6   │ \"7\"           │ \"IV\"            │ \"29\"  │ \"M\"    │ \"ActiveUser\" │\n",
       "│ 7   │ 7   │ \"4\"           │ \"VI\"            │ \"37\"  │ \"M\"    │ \"Moderator\"  │\n",
       "│ 8   │ 8   │ \"6\"           │ \"III\"           │ \"20\"  │ \"M\"    │ \"ActiveUser\" │\n",
       "│ 9   │ 9   │ \"7\"           │ \"IV\"            │ \"27\"  │ \"M\"    │ \"ActiveUser\" │\n",
       "│ 10  │ 10  │ \"7\"           │ \"IV\"            │ \"30\"  │ \"F\"    │ \"NormalUser\" │\n",
       "│ 11  │ 11  │ \"5\"           │ \"-\"             │ \"33\"  │ \"M\"    │ \"NormalUser\" │\n",
       "⋮\n",
       "│ 89  │ 89  │ \"7\"           │ \"VII\"           │ \"40\"  │ \"M\"    │ \"ActiveUser\" │\n",
       "│ 90  │ 90  │ \"4\"           │ \"VI\"            │ \"145\" │ \"M\"    │ \"ActiveUser\" │\n",
       "│ 91  │ 91  │ \"6\"           │ \"IV\"            │ \"19\"  │ \"F\"    │ \"NormalUser\" │\n",
       "│ 92  │ 92  │ \"4\"           │ \"VI\"            │ \"29\"  │ \"M\"    │ \"NormalUser\" │\n",
       "│ 93  │ 93  │ \"7\"           │ \"VI\"            │ \"30\"  │ \"M\"    │ \"NormalUser\" │\n",
       "│ 94  │ 94  │ \"7\"           │ \"-\"             │ \"46\"  │ \"-\"    │ \"NormalUser\" │\n",
       "│ 95  │ 95  │ \"5\"           │ \"V\"             │ \"50\"  │ \"M\"    │ \"NormalUser\" │\n",
       "│ 96  │ 96  │ \"3\"           │ \"V\"             │ \"-\"   │ \"M\"    │ \"NormalUser\" │\n",
       "│ 97  │ 97  │ \"4\"           │ \"IV\"            │ \"52\"  │ \"M\"    │ \"-\"          │\n",
       "│ 98  │ 98  │ \"3\"           │ \"VI\"            │ \"49\"  │ \"M\"    │ \"ActiveUser\" │\n",
       "│ 99  │ 99  │ \"6\"           │ \"III\"           │ \"12\"  │ \"M\"    │ \"ActiveUser\" │\n",
       "│ 100 │ 100 │ \"-\"           │ \"IV\"            │ \"39\"  │ \"M\"    │ \"ActiveUser\" │\n",
       "\n",
       "│ Row │ MoneySpent │ FavoriteProduct │\n",
       "├─────┼────────────┼─────────────────┤\n",
       "│ 1   │ 1050       │ \"VideoGame\"     │\n",
       "│ 2   │ 1000       │ \"Book\"          │\n",
       "│ 3   │ 650        │ \"Book\"          │\n",
       "│ 4   │ 11000      │ \"Book\"          │\n",
       "│ 5   │ 100        │ \"App\"           │\n",
       "│ 6   │ 250        │ \"VideoGame\"     │\n",
       "│ 7   │ 700        │ \"Book\"          │\n",
       "│ 8   │ 350        │ \"VideoGame\"     │\n",
       "│ 9   │ 450        │ \"App\"           │\n",
       "│ 10  │ 350        │ \"Book\"          │\n",
       "│ 11  │ 50         │ \"None\"          │\n",
       "⋮\n",
       "│ 89  │ 350        │ \"None\"          │\n",
       "│ 90  │ 250        │ \"Book\"          │\n",
       "│ 91  │ 250        │ \"App\"           │\n",
       "│ 92  │ 250        │ \"VideoGame\"     │\n",
       "│ 93  │ 200        │ \"App\"           │\n",
       "│ 94  │ 100        │ \"Book\"          │\n",
       "│ 95  │ 50         │ \"Book\"          │\n",
       "│ 96  │ 150        │ \"None\"          │\n",
       "│ 97  │ 100        │ \"Book\"          │\n",
       "│ 98  │ 750        │ \"Book\"          │\n",
       "│ 99  │ 150        │ \"VideoGame\"     │\n",
       "│ 100 │ 400        │ \"Book\"          │"
      ]
     },
     "execution_count": 5,
     "metadata": {},
     "output_type": "execute_result"
    }
   ],
   "source": [
    "data = readtable(\"C:\\\\dev\\\\Julia\\\\JuliaStudy\\\\Data files-selected\\\\CaffeineForTheForce\\\\caffeinefortheforce.csv\")"
   ]
  },
  {
   "cell_type": "code",
   "execution_count": 6,
   "metadata": {
    "collapsed": false
   },
   "outputs": [
    {
     "data": {
      "text/html": [
       "<table class=\"data-frame\"><thead><tr><th></th><th>ID</th><th>MoviesWatched</th><th>FavoriteEpisode</th><th>Age</th><th>Gender</th><th>BlogRole</th><th>MoneySpent</th><th>FavoriteProduct</th></tr></thead><tbody><tr><th>1</th><td>1</td><td>-</td><td>VI</td><td>-</td><td>M</td><td>ActiveUser</td><td>1050</td><td>VideoGame</td></tr><tr><th>2</th><td>2</td><td>3</td><td>VI</td><td>45</td><td>-</td><td>NormalUser</td><td>1000</td><td>Book</td></tr><tr><th>3</th><td>3</td><td>44</td><td>IV</td><td>33</td><td>F</td><td>-</td><td>650</td><td>Book</td></tr><tr><th>4</th><td>4</td><td>3</td><td>-</td><td>40</td><td>M</td><td>Moderator</td><td>11000</td><td>Book</td></tr><tr><th>5</th><td>5</td><td>7</td><td>VI</td><td>25</td><td>F</td><td>NormalUser</td><td>100</td><td>App</td></tr><tr><th>6</th><td>6</td><td>7</td><td>IV</td><td>29</td><td>M</td><td>ActiveUser</td><td>250</td><td>VideoGame</td></tr></tbody></table>"
      ],
      "text/plain": [
       "6×8 DataFrames.DataFrame\n",
       "│ Row │ ID │ MoviesWatched │ FavoriteEpisode │ Age  │ Gender │ BlogRole     │\n",
       "├─────┼────┼───────────────┼─────────────────┼──────┼────────┼──────────────┤\n",
       "│ 1   │ 1  │ \"-\"           │ \"VI\"            │ \"-\"  │ \"M\"    │ \"ActiveUser\" │\n",
       "│ 2   │ 2  │ \"3\"           │ \"VI\"            │ \"45\" │ \"-\"    │ \"NormalUser\" │\n",
       "│ 3   │ 3  │ \"44\"          │ \"IV\"            │ \"33\" │ \"F\"    │ \"-\"          │\n",
       "│ 4   │ 4  │ \"3\"           │ \"-\"             │ \"40\" │ \"M\"    │ \"Moderator\"  │\n",
       "│ 5   │ 5  │ \"7\"           │ \"VI\"            │ \"25\" │ \"F\"    │ \"NormalUser\" │\n",
       "│ 6   │ 6  │ \"7\"           │ \"IV\"            │ \"29\" │ \"M\"    │ \"ActiveUser\" │\n",
       "\n",
       "│ Row │ MoneySpent │ FavoriteProduct │\n",
       "├─────┼────────────┼─────────────────┤\n",
       "│ 1   │ 1050       │ \"VideoGame\"     │\n",
       "│ 2   │ 1000       │ \"Book\"          │\n",
       "│ 3   │ 650        │ \"Book\"          │\n",
       "│ 4   │ 11000      │ \"Book\"          │\n",
       "│ 5   │ 100        │ \"App\"           │\n",
       "│ 6   │ 250        │ \"VideoGame\"     │"
      ]
     },
     "execution_count": 6,
     "metadata": {},
     "output_type": "execute_result"
    }
   ],
   "source": [
    "head(data)"
   ]
  },
  {
   "cell_type": "code",
   "execution_count": 7,
   "metadata": {
    "collapsed": false
   },
   "outputs": [
    {
     "data": {
      "text/html": [
       "<table class=\"data-frame\"><thead><tr><th></th><th>ID</th><th>MoviesWatched</th><th>FavoriteEpisode</th><th>Age</th><th>Gender</th><th>BlogRole</th><th>MoneySpent</th><th>FavoriteProduct</th></tr></thead><tbody><tr><th>1</th><td>95</td><td>5</td><td>V</td><td>50</td><td>M</td><td>NormalUser</td><td>50</td><td>Book</td></tr><tr><th>2</th><td>96</td><td>3</td><td>V</td><td>-</td><td>M</td><td>NormalUser</td><td>150</td><td>None</td></tr><tr><th>3</th><td>97</td><td>4</td><td>IV</td><td>52</td><td>M</td><td>-</td><td>100</td><td>Book</td></tr><tr><th>4</th><td>98</td><td>3</td><td>VI</td><td>49</td><td>M</td><td>ActiveUser</td><td>750</td><td>Book</td></tr><tr><th>5</th><td>99</td><td>6</td><td>III</td><td>12</td><td>M</td><td>ActiveUser</td><td>150</td><td>VideoGame</td></tr><tr><th>6</th><td>100</td><td>-</td><td>IV</td><td>39</td><td>M</td><td>ActiveUser</td><td>400</td><td>Book</td></tr></tbody></table>"
      ],
      "text/plain": [
       "6×8 DataFrames.DataFrame\n",
       "│ Row │ ID  │ MoviesWatched │ FavoriteEpisode │ Age  │ Gender │ BlogRole     │\n",
       "├─────┼─────┼───────────────┼─────────────────┼──────┼────────┼──────────────┤\n",
       "│ 1   │ 95  │ \"5\"           │ \"V\"             │ \"50\" │ \"M\"    │ \"NormalUser\" │\n",
       "│ 2   │ 96  │ \"3\"           │ \"V\"             │ \"-\"  │ \"M\"    │ \"NormalUser\" │\n",
       "│ 3   │ 97  │ \"4\"           │ \"IV\"            │ \"52\" │ \"M\"    │ \"-\"          │\n",
       "│ 4   │ 98  │ \"3\"           │ \"VI\"            │ \"49\" │ \"M\"    │ \"ActiveUser\" │\n",
       "│ 5   │ 99  │ \"6\"           │ \"III\"           │ \"12\" │ \"M\"    │ \"ActiveUser\" │\n",
       "│ 6   │ 100 │ \"-\"           │ \"IV\"            │ \"39\" │ \"M\"    │ \"ActiveUser\" │\n",
       "\n",
       "│ Row │ MoneySpent │ FavoriteProduct │\n",
       "├─────┼────────────┼─────────────────┤\n",
       "│ 1   │ 50         │ \"Book\"          │\n",
       "│ 2   │ 150        │ \"None\"          │\n",
       "│ 3   │ 100        │ \"Book\"          │\n",
       "│ 4   │ 750        │ \"Book\"          │\n",
       "│ 5   │ 150        │ \"VideoGame\"     │\n",
       "│ 6   │ 400        │ \"Book\"          │"
      ]
     },
     "execution_count": 7,
     "metadata": {},
     "output_type": "execute_result"
    }
   ],
   "source": [
    "tail(data)"
   ]
  },
  {
   "cell_type": "code",
   "execution_count": 10,
   "metadata": {
    "collapsed": false
   },
   "outputs": [
    {
     "data": {
      "text/plain": [
       "(100,8)"
      ]
     },
     "execution_count": 10,
     "metadata": {},
     "output_type": "execute_result"
    }
   ],
   "source": [
    "size(data)"
   ]
  },
  {
   "cell_type": "code",
   "execution_count": 24,
   "metadata": {
    "collapsed": false
   },
   "outputs": [
    {
     "data": {
      "text/plain": [
       "8-element Array{Any,1}:\n",
       " DataArrays.DataArray{Int64,1}[[1,2,3,4,5,6,7,8,9,10  …  91,92,93,94,95,96,97,98,99,100]]                                                      \n",
       " DataArrays.DataArray{String,1}[String[\"-\",\"3\",\"44\",\"7\",\"4\",\"6\",\"5\",\"77\"]]                                                                     \n",
       " DataArrays.DataArray{String,1}[String[\"VI\",\"IV\",\"-\",\"III\",\"VII\",\"V\"]]                                                                         \n",
       " DataArrays.DataArray{String,1}[String[\"-\",\"45\",\"33\",\"40\",\"25\",\"29\",\"37\",\"20\",\"27\",\"30\"  …  \"35\",\"15\",\"14\",\"3\",\"145\",\"19\",\"46\",\"52\",\"49\",\"12\"]]\n",
       " DataArrays.DataArray{String,1}[String[\"M\",\"-\",\"F\"]]                                                                                           \n",
       " DataArrays.DataArray{String,1}[String[\"ActiveUser\",\"NormalUser\",\"-\",\"Moderator\"]]                                                             \n",
       " DataArrays.DataArray{Int64,1}[[1050,1000,650,11000,100,250,700,350,450,50,300,400,550,150,200,500,600,1200,750]]                              \n",
       " DataArrays.DataArray{String,1}[String[\"VideoGame\",\"Book\",\"App\",\"None\"]]                                                                       "
      ]
     },
     "execution_count": 24,
     "metadata": {},
     "output_type": "execute_result"
    }
   ],
   "source": [
    "# unique values for each column\n",
    "colwise(unique, data)\n",
    "# by looking at unique values of MoviesWatched and FavoriteEpisode, we can tell there's no Episode 1 and 2\n",
    "# therefore the values of '44' and '77' in MoviesWatched are typo and \"-\" is a missing value"
   ]
  },
  {
   "cell_type": "code",
   "execution_count": 27,
   "metadata": {
    "collapsed": false
   },
   "outputs": [
    {
     "data": {
      "text/plain": [
       "100-element DataArrays.DataArray{String,1}:\n",
       " \"-\" \n",
       " \"3\" \n",
       " \"44\"\n",
       " \"3\" \n",
       " \"7\" \n",
       " \"7\" \n",
       " \"4\" \n",
       " \"6\" \n",
       " \"7\" \n",
       " \"7\" \n",
       " \"5\" \n",
       " \"7\" \n",
       " \"3\" \n",
       " ⋮   \n",
       " \"7\" \n",
       " \"4\" \n",
       " \"6\" \n",
       " \"4\" \n",
       " \"7\" \n",
       " \"7\" \n",
       " \"5\" \n",
       " \"3\" \n",
       " \"4\" \n",
       " \"3\" \n",
       " \"6\" \n",
       " \"-\" "
      ]
     },
     "execution_count": 27,
     "metadata": {},
     "output_type": "execute_result"
    }
   ],
   "source": [
    "# :MoviesWatched missing value replacement\n",
    "for value in data[:MoviesWatched]\n",
    "    if value == \"77\"\n",
    "        value = \"7\"\n",
    "    elseif value == \"44\"\n",
    "        value = \"4\"\n",
    "    elseif value == \"-\"\n",
    "        value = \"NA\"\n",
    "    end\n",
    "end\n"
   ]
  },
  {
   "cell_type": "code",
   "execution_count": 26,
   "metadata": {
    "collapsed": false
   },
   "outputs": [
    {
     "data": {
      "text/plain": [
       "100-element DataArrays.DataArray{String,1}:\n",
       " \"-\" \n",
       " \"3\" \n",
       " \"44\"\n",
       " \"3\" \n",
       " \"7\" \n",
       " \"7\" \n",
       " \"4\" \n",
       " \"6\" \n",
       " \"7\" \n",
       " \"7\" \n",
       " \"5\" \n",
       " \"7\" \n",
       " \"3\" \n",
       " ⋮   \n",
       " \"7\" \n",
       " \"4\" \n",
       " \"6\" \n",
       " \"4\" \n",
       " \"7\" \n",
       " \"7\" \n",
       " \"5\" \n",
       " \"3\" \n",
       " \"4\" \n",
       " \"3\" \n",
       " \"6\" \n",
       " \"-\" "
      ]
     },
     "execution_count": 26,
     "metadata": {},
     "output_type": "execute_result"
    }
   ],
   "source": []
  },
  {
   "cell_type": "code",
   "execution_count": null,
   "metadata": {
    "collapsed": true
   },
   "outputs": [],
   "source": []
  }
 ],
 "metadata": {
  "anaconda-cloud": {},
  "kernelspec": {
   "display_name": "Julia 0.5.0",
   "language": "julia",
   "name": "julia-0.5"
  },
  "language_info": {
   "file_extension": ".jl",
   "mimetype": "application/julia",
   "name": "julia",
   "version": "0.5.0"
  }
 },
 "nbformat": 4,
 "nbformat_minor": 1
}
