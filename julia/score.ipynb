{
 "cells": [
  {
   "cell_type": "code",
   "execution_count": 1,
   "metadata": {
    "collapsed": true
   },
   "outputs": [],
   "source": [
    "type Student\n",
    "    name::String\n",
    "    subject::Dict\n",
    "end"
   ]
  },
  {
   "cell_type": "code",
   "execution_count": 2,
   "metadata": {
    "collapsed": false
   },
   "outputs": [
    {
     "data": {
      "text/plain": [
       "2-element Array{String,1}:\n",
       " \"math\"\n",
       " \"stat\""
      ]
     },
     "execution_count": 2,
     "metadata": {},
     "output_type": "execute_result"
    }
   ],
   "source": [
    "subjects = [\"math\", \"stat\"]"
   ]
  },
  {
   "cell_type": "code",
   "execution_count": 91,
   "metadata": {
    "collapsed": false
   },
   "outputs": [
    {
     "name": "stderr",
     "output_type": "stream",
     "text": [
      "WARNING: Method definition printstudent"
     ]
    },
    {
     "data": {
      "text/plain": [
       "printstudent (generic function with 1 method)"
      ]
     },
     "execution_count": 91,
     "metadata": {},
     "output_type": "execute_result"
    },
    {
     "name": "stderr",
     "output_type": "stream",
     "text": [
      "(Main.Student, Any) in module Main at In[87]:3 overwritten at In[91]:3.\n"
     ]
    }
   ],
   "source": [
    "# Body 부분\n",
    "function printstudent(s::Student, subject)\n",
    "    print(pad(s.name), \" | \")\n",
    "    sum_score = 0\n",
    "    for sub in subject\n",
    "        print(pad(s.subject[sub]), \" | \")\n",
    "        sum_score += s.subject[sub]\n",
    "    end\n",
    "    print(pad(sum_score))\n",
    "    println()    # 한 줄 띄어주기\n",
    "end"
   ]
  },
  {
   "cell_type": "code",
   "execution_count": 70,
   "metadata": {
    "collapsed": false
   },
   "outputs": [
    {
     "data": {
      "text/plain": [
       "Student(\"b\",Dict(\"math\"=>0,\"stat\"=>20))"
      ]
     },
     "execution_count": 70,
     "metadata": {},
     "output_type": "execute_result"
    }
   ],
   "source": [
    "# 학생이름, 과목별 성적 넣어주기\n",
    "a = Student(\"a\", Dict(\"math\"=>20, \"stat\"=>50))\n",
    "b = Student(\"b\", Dict(\"math\"=>0, \"stat\"=>20))"
   ]
  },
  {
   "cell_type": "code",
   "execution_count": 34,
   "metadata": {
    "collapsed": false
   },
   "outputs": [
    {
     "data": {
      "text/plain": [
       "2-element Array{Student,1}:\n",
       " Student(\"a\",Dict(\"math\"=>20,\"stat\"=>50))\n",
       " Student(\"b\",Dict(\"math\"=>70,\"stat\"=>20))"
      ]
     },
     "execution_count": 34,
     "metadata": {},
     "output_type": "execute_result"
    }
   ],
   "source": [
    "[a, b]"
   ]
  },
  {
   "cell_type": "code",
   "execution_count": 62,
   "metadata": {
    "collapsed": false
   },
   "outputs": [
    {
     "name": "stdout",
     "output_type": "stream",
     "text": [
      "b | 70 | 20 | 90\n",
      "a | 20 | 50 | 70\n"
     ]
    }
   ],
   "source": [
    "# Body 부분 인쇄\n",
    "for s in sort([a, b]; rev = true)\n",
    "    printstudent(s, subjects)\n",
    "end\n"
   ]
  },
  {
   "cell_type": "code",
   "execution_count": 36,
   "metadata": {
    "collapsed": false
   },
   "outputs": [
    {
     "name": "stdout",
     "output_type": "stream",
     "text": [
      "name | math | stat | sum\n"
     ]
    }
   ],
   "source": [
    "# header 부분\n",
    "print(\"name\", \" | \")\n",
    "for s in subjects\n",
    "    print(s, \" | \")\n",
    "end\n",
    "print(\"sum\")\n",
    "println()\n",
    "# ?println()"
   ]
  },
  {
   "cell_type": "code",
   "execution_count": 57,
   "metadata": {
    "collapsed": false
   },
   "outputs": [
    {
     "name": "stderr",
     "output_type": "stream",
     "text": [
      "WARNING: Method definition isless(Main.Student, Main.Student) in module Main at In[55]:2 overwritten at In[57]:2.\n"
     ]
    }
   ],
   "source": [
    "# 점수 합계로 정렬하기\n",
    "function Base.isless(l::Student, r::Student)\n",
    "    sum(values(l.subject)) < sum(values(r.subject))\n",
    "end"
   ]
  },
  {
   "cell_type": "code",
   "execution_count": 92,
   "metadata": {
    "collapsed": false
   },
   "outputs": [
    {
     "name": "stderr",
     "output_type": "stream",
     "text": [
      "WARNING: Method definition print_report(Array{Main."
     ]
    },
    {
     "data": {
      "text/plain": [
       "print_report (generic function with 1 method)"
      ]
     },
     "execution_count": 92,
     "metadata": {},
     "output_type": "execute_result"
    },
    {
     "name": "stderr",
     "output_type": "stream",
     "text": [
      "Student, 1}) in module Main at In[88]:2 overwritten at In[92]:2.\n"
     ]
    }
   ],
   "source": [
    "function print_report(student::Vector{Student})\n",
    "    subjects = [\"math\", \"stat\"]\n",
    "    print(pad(\"name\"), \" | \")\n",
    "    for s in subjects\n",
    "        print(pad(s), \" | \")\n",
    "    end\n",
    "    print(pad(\"sum\"))\n",
    "    println()\n",
    "    for s in sort(student; rev = true)\n",
    "        printstudent(s, subjects)\n",
    "    end\n",
    "end"
   ]
  },
  {
   "cell_type": "code",
   "execution_count": 93,
   "metadata": {
    "collapsed": false
   },
   "outputs": [
    {
     "name": "stdout",
     "output_type": "stream",
     "text": [
      "name  | math  | stat  | sum  \n",
      "a     | 20    | 50    | 70   \n",
      "b     | 0     | 20    | 20   \n"
     ]
    }
   ],
   "source": [
    "print_report([a, b])"
   ]
  },
  {
   "cell_type": "code",
   "execution_count": 66,
   "metadata": {
    "collapsed": false
   },
   "outputs": [
    {
     "data": {
      "text/plain": [
       "Student(\"c\",Dict(\"math\"=>70,\"stat\"=>80))"
      ]
     },
     "execution_count": 66,
     "metadata": {},
     "output_type": "execute_result"
    }
   ],
   "source": [
    "c = Student(\"c\", Dict(\"math\"=>70, \"stat\" => 80))"
   ]
  },
  {
   "cell_type": "code",
   "execution_count": 94,
   "metadata": {
    "collapsed": false
   },
   "outputs": [
    {
     "name": "stdout",
     "output_type": "stream",
     "text": [
      "name  | math  | stat  | sum  \n",
      "c     | 70    | 80    | 150  \n",
      "a     | 20    | 50    | 70   \n",
      "b     | 0     | 20    | 20   \n"
     ]
    }
   ],
   "source": [
    "print_report([a, b, c])"
   ]
  },
  {
   "cell_type": "code",
   "execution_count": 68,
   "metadata": {
    "collapsed": false
   },
   "outputs": [
    {
     "name": "stdout",
     "output_type": "stream",
     "text": [
      "search: rpad repeated macroexpand isdirpath tryparse normpath repmat repeat\n",
      "\n"
     ]
    },
    {
     "data": {
      "text/markdown": [
       "```\n",
       "rpad(string, n, p)\n",
       "```\n",
       "\n",
       "Make a string at least `n` columns wide when printed, by padding on the right with copies of `p`.\n"
      ],
      "text/plain": [
       "```\n",
       "rpad(string, n, p)\n",
       "```\n",
       "\n",
       "Make a string at least `n` columns wide when printed, by padding on the right with copies of `p`.\n"
      ]
     },
     "execution_count": 68,
     "metadata": {},
     "output_type": "execute_result"
    }
   ],
   "source": [
    "?rpad    # 깔끔하게 정리해주는 함수\n",
    "?lpad"
   ]
  },
  {
   "cell_type": "code",
   "execution_count": 69,
   "metadata": {
    "collapsed": false
   },
   "outputs": [
    {
     "name": "stdout",
     "output_type": "stream",
     "text": [
      "name | math | stat | sum\n",
      "c | 70 | 80 | 150\n",
      "b | 70 | 20 | 90\n",
      "a | 20 | 50 | 70\n"
     ]
    },
    {
     "ename": "LoadError",
     "evalue": "LoadError: MethodError: no method matching rpad(::Void)\nClosest candidates are:\n  rpad(::Any, !Matched::Integer) at strings/util.jl:121\n  rpad(::Any, !Matched::Integer, !Matched::Any) at strings/util.jl:121\n  rpad(!Matched::AbstractString, !Matched::Integer) at strings/util.jl:108\n  ...\nwhile loading In[69], in expression starting on line 1",
     "output_type": "error",
     "traceback": [
      "LoadError: MethodError: no method matching rpad(::Void)\nClosest candidates are:\n  rpad(::Any, !Matched::Integer) at strings/util.jl:121\n  rpad(::Any, !Matched::Integer, !Matched::Any) at strings/util.jl:121\n  rpad(!Matched::AbstractString, !Matched::Integer) at strings/util.jl:108\n  ...\nwhile loading In[69], in expression starting on line 1",
      ""
     ]
    }
   ],
   "source": []
  },
  {
   "cell_type": "code",
   "execution_count": 90,
   "metadata": {
    "collapsed": false
   },
   "outputs": [
    {
     "data": {
      "text/plain": [
       "pad (generic function with 2 methods)"
      ]
     },
     "execution_count": 90,
     "metadata": {},
     "output_type": "execute_result"
    }
   ],
   "source": [
    "function pad(s)\n",
    "    rpad(s, 5)\n",
    "end\n",
    "    "
   ]
  },
  {
   "cell_type": "code",
   "execution_count": null,
   "metadata": {
    "collapsed": true
   },
   "outputs": [],
   "source": []
  }
 ],
 "metadata": {
  "anaconda-cloud": {},
  "kernelspec": {
   "display_name": "Julia 0.5.0",
   "language": "julia",
   "name": "julia-0.5"
  },
  "language_info": {
   "file_extension": ".jl",
   "mimetype": "application/julia",
   "name": "julia",
   "version": "0.5.0"
  }
 },
 "nbformat": 4,
 "nbformat_minor": 0
}
