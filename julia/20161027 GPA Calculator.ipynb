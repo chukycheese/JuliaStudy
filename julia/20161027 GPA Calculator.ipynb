{
 "cells": [
  {
   "cell_type": "markdown",
   "metadata": {},
   "source": [
    "# Test Driven"
   ]
  },
  {
   "cell_type": "markdown",
   "metadata": {},
   "source": [
    "http://gpacalculator.net/high-school-gpa-calculator/\n",
    "\n",
    "이러한 GPA 를 계산해서 보여주는 함수를 만들어보자.\n",
    "\n",
    "\n",
    "1. A, B, C, D, F 문자로 이루어진 평점을 4.0, 3.0, 2.0, 1.0, 0.0 으로 바꿔주는 함수 grade_score(grade)\n",
    "2. Course Type(Regular, Honors, AP) 에 따라 각각 0, 0.5, 1.0 을 더해주는 함수 course_type_weight(course_type)\n",
    "3. grade 와 course_type 을 입력값으로 받아서 점수를 반환해주는 함수 gpa(grade, course_type)\n",
    " - 한 번에 만들려고 하지 말고 하나씩 하나씩 쌓고, 테스트를 반복해서 만들어야함.\n",
    "4. gpa() 함수가 제대로 작동하는지 @test 를 통해 테스트해보자.\n",
    "\n",
    "5. 함수에 넣을 데이터 타입을 정의해주자.\n",
    "    - Course(name::String, grade::String, course_type::String), (과목명, 평점, 종류) 를 받는 Course 데이터타입\n",
    "    - Student(courses::Vector{Course}), Course 에 대한 여러 개의 데이터를 받는 Student 데이터타입\n",
    "6. 과목별 평점을 합쳐서 GPA를 반환해주는 함수 gpa(Student) 를 만들고 테스트해보자."
   ]
  },
  {
   "cell_type": "code",
   "execution_count": 3,
   "metadata": {
    "collapsed": false
   },
   "outputs": [
    {
     "name": "stdout",
     "output_type": "stream",
     "text": [
      "Course | Grade | Course Type | "
     ]
    },
    {
     "name": "stderr",
     "output_type": "stream",
     "text": [
      "WARNING: Method definition header() in module Main at In[2]:3 overwritten at In[3]:3.\n"
     ]
    },
    {
     "name": "stdout",
     "output_type": "stream",
     "text": [
      "\n"
     ]
    }
   ],
   "source": [
    "# Header\n",
    "function header()\n",
    "    print(lpad(\"Course\", 5), \" | \")\n",
    "    print(lpad(\"Grade\", 5), \" | \")\n",
    "    print(lpad(\"Course Type\", 5), \" | \")\n",
    "    println()\n",
    "end\n",
    "\n",
    "header()"
   ]
  },
  {
   "cell_type": "markdown",
   "metadata": {},
   "source": [
    "Test-Driven Development 를 위한 라이브러리를 불러오자."
   ]
  },
  {
   "cell_type": "code",
   "execution_count": 4,
   "metadata": {
    "collapsed": true
   },
   "outputs": [],
   "source": [
    "using Base.Test"
   ]
  },
  {
   "cell_type": "code",
   "execution_count": 5,
   "metadata": {
    "collapsed": false
   },
   "outputs": [
    {
     "data": {
      "text/plain": [
       "gpa (generic function with 1 method)"
      ]
     },
     "execution_count": 5,
     "metadata": {},
     "output_type": "execute_result"
    }
   ],
   "source": [
    "function grade_score(grade)::Float64\n",
    "    dict = Dict(\n",
    "    \"A\" => 4.0,\n",
    "    \"B\" => 3.0,\n",
    "    \"C\" => 2.0,\n",
    "    \"D\" => 1.0,\n",
    "    \"F\" => 0.0\n",
    "    )\n",
    "    dict[grade]\n",
    "end\n",
    "\n",
    "function course_type_weight(course_type)::Float64\n",
    "    if course_type == \"Regular\"\n",
    "        return 0\n",
    "    elseif course_type == \"Honors\"\n",
    "        return 0.5\n",
    "    else\n",
    "        return 1.0\n",
    "    end\n",
    "    \n",
    "end\n",
    "\n",
    "\n",
    "function gpa(grade, course_type)::Float64\n",
    "    grade_score(grade) + course_type_weight(course_type)\n",
    "end"
   ]
  },
  {
   "cell_type": "code",
   "execution_count": 6,
   "metadata": {
    "collapsed": false
   },
   "outputs": [
    {
     "data": {
      "text/plain": [
       "Test Passed\n",
       "  Expression: gpa(\"F\",\"AP\") == 1.0\n",
       "   Evaluated: 1.0 == 1.0"
      ]
     },
     "execution_count": 6,
     "metadata": {},
     "output_type": "execute_result"
    }
   ],
   "source": [
    "@test gpa(\"A\", \"Regular\") == 4.0\n",
    "@test gpa(\"A\", \"Honors\") == 4.5\n",
    "@test gpa(\"A\", \"AP\") == 5.0\n",
    "\n",
    "@test gpa(\"B\", \"Regular\") == 3.0\n",
    "@test gpa(\"B\", \"Honors\") == 3.5\n",
    "@test gpa(\"B\", \"AP\") == 4.0\n",
    "\n",
    "@test gpa(\"C\", \"Regular\") == 2.0\n",
    "@test gpa(\"C\", \"Honors\") == 2.5\n",
    "@test gpa(\"C\", \"AP\") == 3.0\n",
    "\n",
    "@test gpa(\"D\", \"Regular\") == 1.0\n",
    "@test gpa(\"D\", \"Honors\") == 1.5\n",
    "@test gpa(\"D\", \"AP\") == 2.0\n",
    "\n",
    "@test gpa(\"F\", \"Regular\") == 0.0\n",
    "@test gpa(\"F\", \"Honors\") == 0.5\n",
    "@test gpa(\"F\", \"AP\") == 1.0"
   ]
  },
  {
   "cell_type": "code",
   "execution_count": null,
   "metadata": {
    "collapsed": true
   },
   "outputs": [],
   "source": [
    "type Course\n",
    "    name::String\n",
    "    grade::String\n",
    "    course_type::String\n",
    "end"
   ]
  },
  {
   "cell_type": "code",
   "execution_count": null,
   "metadata": {
    "collapsed": true
   },
   "outputs": [],
   "source": [
    "type Student\n",
    "    courses::Vector{Course}\n",
    "end"
   ]
  },
  {
   "cell_type": "code",
   "execution_count": null,
   "metadata": {
    "collapsed": true
   },
   "outputs": [],
   "source": [
    "# push!(a, 5)  python의 list.append()"
   ]
  },
  {
   "cell_type": "code",
   "execution_count": null,
   "metadata": {
    "collapsed": false
   },
   "outputs": [],
   "source": [
    "# 과목별 평점을 합쳐서 총점(GPA) 를 내주는 함수를 만들자.\n",
    "function gpa(s::Student)::Float64\n",
    "    scores = []\n",
    "    for course in s.courses\n",
    "        push!(scores, gpa(course.grade, course.course_type))\n",
    "    end\n",
    "    round(mean(scores), 1)\n",
    "end"
   ]
  },
  {
   "cell_type": "code",
   "execution_count": null,
   "metadata": {
    "collapsed": true
   },
   "outputs": [],
   "source": [
    "# 같은 함수를 정의하는 서로 다른 방법들, map, broadcasting\n",
    "function gpa1(s::Student)::Float64\n",
    "#     f = course -> gpa(course.grade, course.course_type)\n",
    "    \n",
    "#     f(course) = gpa(course.grade, course.course_type)\n",
    "    \n",
    "#     function f(course)\n",
    "#         gpa(course.grade, course.course_type)\n",
    "#     end\n",
    "\n",
    "#    scores = map(f, s.courses)\n",
    "    \n",
    "#     scores = f.(s.courses)   # broadcasting\n",
    "    \n",
    "    round(mean(scores), 1)\n",
    "end"
   ]
  },
  {
   "cell_type": "code",
   "execution_count": null,
   "metadata": {
    "collapsed": true
   },
   "outputs": [],
   "source": []
  },
  {
   "cell_type": "code",
   "execution_count": null,
   "metadata": {
    "collapsed": false
   },
   "outputs": [],
   "source": [
    "a_courses = [Course(\"math\", \"A\", \"Regular\"), Course(\"stat\", \"B\", \"Honors\")]\n",
    "a = Student(a_courses)\n",
    "b_courses = [Course(\"math\", \"A\", \"AP\"), Course(\"stat\", \"B\", \"Regular\")]\n",
    "b = Student(b_courses)"
   ]
  },
  {
   "cell_type": "code",
   "execution_count": null,
   "metadata": {
    "collapsed": false
   },
   "outputs": [],
   "source": [
    "@test gpa(a) == 3.8\n",
    "@test gpa(b) == 4.0"
   ]
  },
  {
   "cell_type": "code",
   "execution_count": null,
   "metadata": {
    "collapsed": false
   },
   "outputs": [],
   "source": [
    "function Base.isless(l::Student, r::Student)\n",
    "    gpa(l) < gpa(r)\n",
    "end"
   ]
  },
  {
   "cell_type": "code",
   "execution_count": null,
   "metadata": {
    "collapsed": false
   },
   "outputs": [],
   "source": [
    "sort([a, b], rev = true)"
   ]
  },
  {
   "cell_type": "code",
   "execution_count": null,
   "metadata": {
    "collapsed": false
   },
   "outputs": [],
   "source": [
    "a"
   ]
  },
  {
   "cell_type": "code",
   "execution_count": null,
   "metadata": {
    "collapsed": false
   },
   "outputs": [],
   "source": [
    "a.courses"
   ]
  },
  {
   "cell_type": "code",
   "execution_count": null,
   "metadata": {
    "collapsed": false
   },
   "outputs": [],
   "source": [
    "# A의 성적\n",
    "header()\n",
    "for cor in a.courses\n",
    "    print(lpad(cor.name, 6), \" | \")\n",
    "    print(lpad(cor.grade, 5), \" | \")\n",
    "    print(lpad(cor.course_type, 11), \" | \")\n",
    "    println()\n",
    "end\n",
    "print(\"GPA \", gpa(a))"
   ]
  },
  {
   "cell_type": "code",
   "execution_count": null,
   "metadata": {
    "collapsed": false
   },
   "outputs": [],
   "source": [
    "# 위의 것을 함수로 만들어보자.\n",
    "function gpa_report(s::Student)\n",
    "    header()\n",
    "    for cor in s.courses\n",
    "        print(lpad(cor.name, 6), \" | \")\n",
    "        print(lpad(cor.grade, 5), \" | \")\n",
    "        print(lpad(cor.course_type, 11), \" | \")\n",
    "        println()\n",
    "    end\n",
    "    print(\"GPA \", gpa(a))\n",
    "end"
   ]
  },
  {
   "cell_type": "code",
   "execution_count": null,
   "metadata": {
    "collapsed": false
   },
   "outputs": [],
   "source": [
    "gpa_report(a)"
   ]
  },
  {
   "cell_type": "code",
   "execution_count": null,
   "metadata": {
    "collapsed": false
   },
   "outputs": [],
   "source": [
    "ones(2, 2, 2)\n",
    "zeros"
   ]
  },
  {
   "cell_type": "code",
   "execution_count": null,
   "metadata": {
    "collapsed": false
   },
   "outputs": [],
   "source": []
  },
  {
   "cell_type": "code",
   "execution_count": null,
   "metadata": {
    "collapsed": false
   },
   "outputs": [],
   "source": []
  },
  {
   "cell_type": "code",
   "execution_count": null,
   "metadata": {
    "collapsed": true
   },
   "outputs": [],
   "source": []
  }
 ],
 "metadata": {
  "anaconda-cloud": {},
  "kernelspec": {
   "display_name": "Julia 0.5.0",
   "language": "julia",
   "name": "julia-0.5"
  },
  "language_info": {
   "file_extension": ".jl",
   "mimetype": "application/julia",
   "name": "julia",
   "version": "0.5.0"
  }
 },
 "nbformat": 4,
 "nbformat_minor": 0
}
