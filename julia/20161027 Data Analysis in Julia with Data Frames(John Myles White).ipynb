{
 "cells": [
  {
   "cell_type": "markdown",
   "metadata": {},
   "source": [
    "# Data Analysis in Julia with Data Frames\n",
    "### (John Myles White)\n",
    "* https://www.youtube.com/watch?v=XRClA5YLiIc"
   ]
  },
  {
   "cell_type": "code",
   "execution_count": 1,
   "metadata": {
    "collapsed": false
   },
   "outputs": [
    {
     "name": "stderr",
     "output_type": "stream",
     "text": [
      "INFO: Cloning cache of DataArrays from https://github.com/JuliaStats/DataArrays.jl.git\n",
      "INFO: Cloning cache of DataFrames from https://github.com/JuliaStats/DataFrames.jl.git\n",
      "INFO: Cloning cache of FileIO from https://github.com/JuliaIO/FileIO.jl.git\n",
      "INFO: Cloning cache of GZip from https://github.com/JuliaIO/GZip.jl.git\n",
      "INFO: Cloning cache of Reexport from https://github.com/simonster/Reexport.jl.git\n",
      "INFO: Cloning cache of SortingAlgorithms from https://github.com/JuliaLang/SortingAlgorithms.jl.git\n",
      "INFO: Cloning cache of StatsBase from https://github.com/JuliaStats/StatsBase.jl.git\n",
      "INFO: Installing DataArrays v0.3.9\n",
      "INFO: Installing DataFrames v0.8.4\n",
      "INFO: Installing FileIO v0.2.0\n",
      "INFO: Installing GZip v0.2.20\n",
      "INFO: Installing Reexport v0.0.3\n",
      "INFO: Installing SortingAlgorithms v0.1.0\n",
      "INFO: Installing StatsBase v0.11.1\n",
      "INFO: Package database updated\n",
      "INFO: METADATA is out-of-date — you may not have the latest version of DataFrames\n",
      "INFO: Use `Pkg.update()` to get the latest versions of your packages\n"
     ]
    }
   ],
   "source": [
    "# Pkg.add(\"DataFrames\")\n",
    "# Pkg.add(\"RDatasets\")"
   ]
  },
  {
   "cell_type": "code",
   "execution_count": 5,
   "metadata": {
    "collapsed": false
   },
   "outputs": [
    {
     "name": "stderr",
     "output_type": "stream",
     "text": [
      "INFO: Precompiling module DataFrames.\n"
     ]
    }
   ],
   "source": [
    "using DataFrames\n",
    "using RDatasets"
   ]
  },
  {
   "cell_type": "markdown",
   "metadata": {},
   "source": [
    "## How do we cope with missing data?"
   ]
  },
  {
   "cell_type": "code",
   "execution_count": 6,
   "metadata": {
    "collapsed": false
   },
   "outputs": [
    {
     "data": {
      "text/plain": [
       "0.7"
      ]
     },
     "execution_count": 6,
     "metadata": {},
     "output_type": "execute_result"
    }
   ],
   "source": [
    "# This works fine\n",
    "v = [0.5, 0.6, 0.7, 0.8, 0.9]\n",
    "mean(v)"
   ]
  },
  {
   "cell_type": "code",
   "execution_count": 7,
   "metadata": {
    "collapsed": false
   },
   "outputs": [
    {
     "ename": "LoadError",
     "evalue": "LoadError: MethodError: Cannot `convert` an object of type DataArrays.NAtype to an object of type Float64\nThis may have arisen from a call to the constructor Float64(...),\nsince type constructors fall back to convert methods.\nwhile loading In[7], in expression starting on line 2",
     "output_type": "error",
     "traceback": [
      "LoadError: MethodError: Cannot `convert` an object of type DataArrays.NAtype to an object of type Float64\nThis may have arisen from a call to the constructor Float64(...),\nsince type constructors fall back to convert methods.\nwhile loading In[7], in expression starting on line 2",
      "",
      " in setindex!(::Array{Float64,1}, ::DataArrays.NAtype, ::Int64) at .\\array.jl:415",
      " in copy!(::Array{Float64,1}, ::Tuple{Float64,Float64,Float64,DataArrays.NAtype,Float64}) at .\\abstractarray.jl:479",
      " in vect(::Float64, ::Vararg{Any,N}) at .\\abstractarray.jl:27"
     ]
    }
   ],
   "source": [
    "# But this doesn't\n",
    "# If you're not using DataFrames, NA is not defined.\n",
    "v = [0.5, 0.6, 0.7, NA, 0.9]\n",
    "mean(v)\n",
    "# "
   ]
  },
  {
   "cell_type": "markdown",
   "metadata": {},
   "source": [
    "The NA type:\n",
    "    * Represents a missing value\n",
    "        - Like NULL in some systems\n",
    "    * Poisons other values\n",
    "        - Like NaN for floating point numbers"
   ]
  },
  {
   "cell_type": "code",
   "execution_count": 9,
   "metadata": {
    "collapsed": false
   },
   "outputs": [
    {
     "name": "stdout",
     "output_type": "stream",
     "text": [
      "NA\n",
      "NA\n",
      "true\n"
     ]
    }
   ],
   "source": [
    "# Poisoning other values. \n",
    "println(1 + NA)\n",
    "\n",
    "println(1 > NA)\n",
    "\n",
    "println(isna(NA))"
   ]
  },
  {
   "cell_type": "code",
   "execution_count": 11,
   "metadata": {
    "collapsed": false
   },
   "outputs": [
    {
     "name": "stdout",
     "output_type": "stream",
     "text": [
      "false\n",
      "false\n",
      "false\n"
     ]
    }
   ],
   "source": [
    "println(NaN == NaN)\n",
    "\n",
    "println(NaN < 1)\n",
    "\n",
    "println(NaN > 1)"
   ]
  },
  {
   "cell_type": "markdown",
   "metadata": {},
   "source": [
    "DataArray{T} adds NA's to Array{T}\n",
    "\n",
    "DataArray{T} can sotre T or NA\n",
    "\n",
    "- T is a parameter type in DataArray, and the type of NA is NA"
   ]
  },
  {
   "cell_type": "code",
   "execution_count": 12,
   "metadata": {
    "collapsed": false
   },
   "outputs": [
    {
     "data": {
      "text/plain": [
       "DataArrays.NAtype"
      ]
     },
     "execution_count": 12,
     "metadata": {},
     "output_type": "execute_result"
    }
   ],
   "source": [
    "typeof(NA)"
   ]
  },
  {
   "cell_type": "code",
   "execution_count": 14,
   "metadata": {
    "collapsed": false
   },
   "outputs": [
    {
     "name": "stdout",
     "output_type": "stream",
     "text": [
      "[1,2,3]\n"
     ]
    },
    {
     "data": {
      "text/plain": [
       "\"NA::2::3\""
      ]
     },
     "execution_count": 14,
     "metadata": {},
     "output_type": "execute_result"
    }
   ],
   "source": [
    "dv = DataArray([1, 2, 3])\n",
    "println(dv)\n",
    "\n",
    "dv[1] = NA\n",
    "\n",
    "join(dv, \"::\") # general way of string joining."
   ]
  },
  {
   "cell_type": "markdown",
   "metadata": {},
   "source": [
    "Convenience constructors:\n",
    "    - zeros(): fill with 0\n",
    "    - ones(): fill with 1\n",
    "    - falses(): fill with falses\n",
    "    - trues(): fill with trues\n",
    "    - dataeye(): \n",
    "    - datadiagm(): fill with values diagnally\n",
    "\n",
    "* maybe these functions have been removed or modified."
   ]
  },
  {
   "cell_type": "markdown",
   "metadata": {},
   "source": [
    "## How do we cope with heteregeneous data?"
   ]
  },
  {
   "cell_type": "markdown",
   "metadata": {},
   "source": [
    "Example data structure is as follow:\n",
    "\n",
    "Name        Height    Weight    Gender\n",
    "\n",
    "Jonh Smith    73.0     NA        Male\n",
    "\n",
    "Jane Doe      68.0     130      Female"
   ]
  },
  {
   "cell_type": "code",
   "execution_count": 22,
   "metadata": {
    "collapsed": false
   },
   "outputs": [
    {
     "name": "stderr",
     "output_type": "stream",
     "text": [
      "WARNING: Method definition (::Type{Main.profile})(String, Base.Dict, String) in module Main at In[19]:2 overwritten at In[22]:2.\n",
      "WARNING: Method definition (::Type{Main.profile})(Any, Any, Any) in module Main at In[19]:2 overwritten at In[22]:2.\n"
     ]
    }
   ],
   "source": [
    "type profile\n",
    "    Name::String\n",
    "    Body_size::Dict\n",
    "    Gender::String\n",
    "end"
   ]
  },
  {
   "cell_type": "code",
   "execution_count": 23,
   "metadata": {
    "collapsed": false
   },
   "outputs": [
    {
     "data": {
      "text/plain": [
       "2-element Array{String,1}:\n",
       " \"Height\"\n",
       " \"Weight\""
      ]
     },
     "execution_count": 23,
     "metadata": {},
     "output_type": "execute_result"
    }
   ],
   "source": [
    "body_size = [\"Height\", \"Weight\"]"
   ]
  },
  {
   "cell_type": "code",
   "execution_count": 25,
   "metadata": {
    "collapsed": false
   },
   "outputs": [
    {
     "data": {
      "text/plain": [
       "profile(\"Jane Doe\",Dict{String,Any}(Pair{String,Any}(\"Height\",68.0),Pair{String,Any}(\"Weight\",130)),\"Female\")"
      ]
     },
     "execution_count": 25,
     "metadata": {},
     "output_type": "execute_result"
    }
   ],
   "source": [
    "a = profile(\"John Smith\", Dict(\"Height\"=>73.0, \"Weight\"=>NA), \"Male\")\n",
    "b = profile(\"Jane Doe\", Dict(\"Height\"=>68.0, \"Weight\"=>130), \"Female\")"
   ]
  },
  {
   "cell_type": "code",
   "execution_count": 26,
   "metadata": {
    "collapsed": false
   },
   "outputs": [
    {
     "name": "stderr",
     "output_type": "stream",
     "text": [
      "WARNING: imported binding for df overwritten in module Main\n"
     ]
    },
    {
     "ename": "LoadError",
     "evalue": "LoadError: MethodError: Cannot `convert` an object of type String to an object of type DataArrays.DataArray{T,1}\nThis may have arisen from a call to the constructor DataArrays.DataArray{T,1}(...),\nsince type constructors fall back to convert methods.\nwhile loading In[26], in expression starting on line 3",
     "output_type": "error",
     "traceback": [
      "LoadError: MethodError: Cannot `convert` an object of type String to an object of type DataArrays.DataArray{T,1}\nThis may have arisen from a call to the constructor DataArrays.DataArray{T,1}(...),\nsince type constructors fall back to convert methods.\nwhile loading In[26], in expression starting on line 3",
      "",
      " in getindex(::Type{DataArrays.DataArray{T,1}}, ::String, ::String) at .\\array.jl:139"
     ]
    }
   ],
   "source": [
    "# use DataFrame\n",
    "df = DataFrame()\n",
    "df[\"Name\"] = DataVector[\"John Smith\", \"Jane DOe\"]\n",
    "df[\"Height\"] = DataVector[73.0, 68.0]\n",
    "df[\"Weight\"] = DataVector[NA, 130]\n",
    "df[\"Gender\"] = DataVector[\"Male\", \"Female\"]"
   ]
  },
  {
   "cell_type": "code",
   "execution_count": 27,
   "metadata": {
    "collapsed": false
   },
   "outputs": [
    {
     "data": {
      "text/html": [
       "<table class=\"data-frame\"><tr><th></th></tr></table>"
      ],
      "text/plain": [
       "0×0 DataFrames.DataFrame\n"
      ]
     },
     "execution_count": 27,
     "metadata": {},
     "output_type": "execute_result"
    }
   ],
   "source": []
  },
  {
   "cell_type": "code",
   "execution_count": null,
   "metadata": {
    "collapsed": true
   },
   "outputs": [],
   "source": []
  }
 ],
 "metadata": {
  "kernelspec": {
   "display_name": "Julia 0.5.0",
   "language": "julia",
   "name": "julia-0.5"
  },
  "language_info": {
   "file_extension": ".jl",
   "mimetype": "application/julia",
   "name": "julia",
   "version": "0.5.0"
  }
 },
 "nbformat": 4,
 "nbformat_minor": 0
}
