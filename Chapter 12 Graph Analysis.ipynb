{
 "cells": [
  {
   "cell_type": "code",
   "execution_count": 2,
   "metadata": {
    "collapsed": false
   },
   "outputs": [
    {
     "name": "stderr",
     "output_type": "stream",
     "text": [
      "INFO: Precompiling module DataStructures.\n",
      "WARNING: Method definition (::Type{Graphs.KeyVertex})(Int64, #K<:Any) in module Graphs at C:\\Users\\ChuKY\\.julia\\v0.5\\Graphs\\src\\common.jl:12 overwritten at C:\\Users\\ChuKY\\.julia\\v0.5\\Graphs\\src\\common.jl:16.\n",
      "WARNING: Method definition (::Type{Graphs.Edge})(Int64, #V<:Any, #V<:Any) in module Graphs at C:\\Users\\ChuKY\\.julia\\v0.5\\Graphs\\src\\common.jl:54 overwritten at C:\\Users\\ChuKY\\.julia\\v0.5\\Graphs\\src\\common.jl:60.\n",
      "WARNING: Method definition (::Type{Graphs.ExEdge})(Int64, #V<:Any, #V<:Any, Base.Dict{String, Any}) in module Graphs at C:\\Users\\ChuKY\\.julia\\v0.5\\Graphs\\src\\common.jl:72 overwritten at C:\\Users\\ChuKY\\.julia\\v0.5\\Graphs\\src\\common.jl:83.\n",
      "WARNING: Method definition (::Type{Graphs.TargetIterator})(#G<:Graphs.AbstractGraph, #EList<:Any) in module Graphs at C:\\Users\\ChuKY\\.julia\\v0.5\\Graphs\\src\\common.jl:123 overwritten at C:\\Users\\ChuKY\\.julia\\v0.5\\Graphs\\src\\common.jl:127.\n",
      "WARNING: Method definition (::Type{Graphs.SourceIterator})(#G<:Graphs.AbstractGraph, #EList<:Any) in module Graphs at C:\\Users\\ChuKY\\.julia\\v0.5\\Graphs\\src\\common.jl:141 overwritten at C:\\Users\\ChuKY\\.julia\\v0.5\\Graphs\\src\\common.jl:145.\n",
      "WARNING: Method definition edge_property_requirement(Graphs.AbstractEdgePropertyInspector{#T<:Any}, Graphs.AbstractGraph{#V<:Any, E<:Any}) in module Graphs at C:\\Users\\ChuKY\\.julia\\v0.5\\Graphs\\src\\common.jl:164 overwritten at C:\\Users\\ChuKY\\.julia\\v0.5\\Graphs\\src\\common.jl:179.\n",
      "WARNING: Method definition vertex_index(#V<:Union{Graphs.ExVertex, Graphs.KeyVertex}, Graphs.GenericGraph{#V<:Union{Graphs.ExVertex, Graphs.KeyVertex}, E<:Any, VList<:Any, EList<:Any, IncList<:Any}) in module Graphs at C:\\Users\\ChuKY\\.julia\\v0.5\\Graphs\\src\\graph.jl:65 overwritten at C:\\Users\\ChuKY\\.julia\\v0.5\\Graphs\\src\\graph.jl:67.\n",
      "WARNING: Method definition (::Type{Graphs.GDistanceVisitor})(#G<:Graphs.AbstractGraph, #DMap<:Any) in module Graphs at C:\\Users\\ChuKY\\.julia\\v0.5\\Graphs\\src\\breadth_first_visit.jl:107 overwritten at C:\\Users\\ChuKY\\.julia\\v0.5\\Graphs\\src\\breadth_first_visit.jl:111.\n"
     ]
    }
   ],
   "source": [
    "using Graphs"
   ]
  },
  {
   "cell_type": "code",
   "execution_count": 3,
   "metadata": {
    "collapsed": false
   },
   "outputs": [
    {
     "ename": "LoadError",
     "evalue": "LoadError: UndefVarError: g not defined\nwhile loading In[3], in expression starting on line 1",
     "output_type": "error",
     "traceback": [
      "LoadError: UndefVarError: g not defined\nwhile loading In[3], in expression starting on line 1",
      ""
     ]
    }
   ],
   "source": [
    "num_vertices(g)"
   ]
  },
  {
   "cell_type": "code",
   "execution_count": null,
   "metadata": {
    "collapsed": true
   },
   "outputs": [],
   "source": []
  }
 ],
 "metadata": {
  "anaconda-cloud": {},
  "kernelspec": {
   "display_name": "Julia 0.5.0",
   "language": "julia",
   "name": "julia-0.5"
  },
  "language_info": {
   "file_extension": ".jl",
   "mimetype": "application/julia",
   "name": "julia",
   "version": "0.5.0"
  }
 },
 "nbformat": 4,
 "nbformat_minor": 1
}
